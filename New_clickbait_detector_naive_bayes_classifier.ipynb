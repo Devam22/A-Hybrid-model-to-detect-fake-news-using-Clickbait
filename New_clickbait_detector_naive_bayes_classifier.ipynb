{
  "metadata": {
    "kernelspec": {
      "language": "python",
      "display_name": "Python 3",
      "name": "python3"
    },
    "language_info": {
      "pygments_lexer": "ipython3",
      "nbconvert_exporter": "python",
      "version": "3.6.4",
      "file_extension": ".py",
      "codemirror_mode": {
        "name": "ipython",
        "version": 3
      },
      "name": "python",
      "mimetype": "text/x-python"
    },
    "colab": {
      "name": "New-clickbait-detector-naive-bayes-classifier.ipynb",
      "provenance": []
    }
  },
  "nbformat_minor": 0,
  "nbformat": 4,
  "cells": [
    {
      "cell_type": "code",
      "source": [
        "import numpy as np \n",
        "import pandas as pd\n",
        "import seaborn as sns\n",
        "import nltk\n",
        "nltk.download('stopwords')\n",
        "nltk.download('wordnet')\n",
        "from nltk.corpus import stopwords\n",
        "from nltk.probability import FreqDist\n",
        "import string as s\n",
        "import re\n",
        "\n",
        "import matplotlib.pyplot as plt\n",
        "from sklearn.model_selection import cross_val_score\n",
        "\n",
        "from sklearn.naive_bayes import MultinomialNB\n",
        "from sklearn.model_selection import train_test_split\n",
        "import os\n",
        "#for dirname, _, filenames in os.walk('/kaggle/input'):\n",
        " #   for filename in filenames:\n",
        "  #      print(os.path.join(dirname, filename))"
      ],
      "metadata": {
        "_uuid": "8f2839f25d086af736a60e9eeb907d3b93b6e0e5",
        "_cell_guid": "b1076dfc-b9ad-4769-8c92-a6c4dae69d19",
        "trusted": true,
        "id": "Ba08pK4SCJPS",
        "outputId": "dca7a5a4-7cfe-4c5b-d3af-ab3e79e9e32f",
        "colab": {
          "base_uri": "https://localhost:8080/"
        }
      },
      "execution_count": null,
      "outputs": [
        {
          "output_type": "stream",
          "name": "stdout",
          "text": [
            "[nltk_data] Downloading package stopwords to /root/nltk_data...\n",
            "[nltk_data]   Unzipping corpora/stopwords.zip.\n",
            "[nltk_data] Downloading package wordnet to /root/nltk_data...\n",
            "[nltk_data]   Unzipping corpora/wordnet.zip.\n"
          ]
        }
      ]
    },
    {
      "cell_type": "markdown",
      "source": [
        "# Loading the Dataset"
      ],
      "metadata": {
        "id": "PZTnx-mrCJPX"
      }
    },
    {
      "cell_type": "code",
      "source": [
        "#1 means it is a clickbait and 0 means it is not a clickbait \n",
        "cb_data= pd.read_csv('train.csv')\n",
        "cb_data.head(10)"
      ],
      "metadata": {
        "_uuid": "d629ff2d2480ee46fbb7e2d37f6b5fab8052498a",
        "_cell_guid": "79c7e3d0-c299-4dcb-8224-4455121ee9b0",
        "trusted": true,
        "colab": {
          "base_uri": "https://localhost:8080/",
          "height": 363
        },
        "id": "f4v9JEdACJPY",
        "outputId": "f55a605d-e850-49d6-8908-abd5c1879814"
      },
      "execution_count": null,
      "outputs": [
        {
          "output_type": "execute_result",
          "data": {
            "text/plain": [
              "   id                                              title  \\\n",
              "0   0  China and Economic Reform: Xi Jinping’s Track ...   \n",
              "1   1  Trade to Be a Big Topic in Theresa May’s U.S. ...   \n",
              "2   2  The Top Beaches In The World, According To Nat...   \n",
              "3   3  Sheriff’s Report Provides New Details on Tamir...   \n",
              "4   4  Surgeon claiming he will transplant volunteer'...   \n",
              "5   5  This Is How Differently Priced Spanx Can Actua...   \n",
              "6   6  Samantha Bee and Jane Pauley Are Breaking the ...   \n",
              "7   7  Krauthammer: Syria Strike 'Total Contradiction...   \n",
              "8   8  Rust Belt voters made Trump president. Now the...   \n",
              "9   9  As Illegal Outpost Cleared, Israeli PM Netanya...   \n",
              "\n",
              "                                                text      label  \n",
              "0  Economists generally agree: China must overhau...       news  \n",
              "1  LONDON—British Prime Minister Theresa May said...       news  \n",
              "2  Beaches come in all sorts of shapes and sizes ...  clickbait  \n",
              "3  A timeline of what happened after Tamir Rice, ...  clickbait  \n",
              "4  An Italian neurosurgeon who has claimed for mo...       news  \n",
              "5  Spanx does not do the thing I thought it did. ...       news  \n",
              "6  “Jane Pauley! You’re all in leather,” said Sam...       news  \n",
              "7  Charles Krauthammer called President Trump's 5...       news  \n",
              "8  The United States is making more things than e...       news  \n",
              "9  As Jewish settlers and protesters were removed...       news  "
            ],
            "text/html": [
              "\n",
              "  <div id=\"df-35876bf2-708b-44e4-92de-56caa78ca3dd\">\n",
              "    <div class=\"colab-df-container\">\n",
              "      <div>\n",
              "<style scoped>\n",
              "    .dataframe tbody tr th:only-of-type {\n",
              "        vertical-align: middle;\n",
              "    }\n",
              "\n",
              "    .dataframe tbody tr th {\n",
              "        vertical-align: top;\n",
              "    }\n",
              "\n",
              "    .dataframe thead th {\n",
              "        text-align: right;\n",
              "    }\n",
              "</style>\n",
              "<table border=\"1\" class=\"dataframe\">\n",
              "  <thead>\n",
              "    <tr style=\"text-align: right;\">\n",
              "      <th></th>\n",
              "      <th>id</th>\n",
              "      <th>title</th>\n",
              "      <th>text</th>\n",
              "      <th>label</th>\n",
              "    </tr>\n",
              "  </thead>\n",
              "  <tbody>\n",
              "    <tr>\n",
              "      <th>0</th>\n",
              "      <td>0</td>\n",
              "      <td>China and Economic Reform: Xi Jinping’s Track ...</td>\n",
              "      <td>Economists generally agree: China must overhau...</td>\n",
              "      <td>news</td>\n",
              "    </tr>\n",
              "    <tr>\n",
              "      <th>1</th>\n",
              "      <td>1</td>\n",
              "      <td>Trade to Be a Big Topic in Theresa May’s U.S. ...</td>\n",
              "      <td>LONDON—British Prime Minister Theresa May said...</td>\n",
              "      <td>news</td>\n",
              "    </tr>\n",
              "    <tr>\n",
              "      <th>2</th>\n",
              "      <td>2</td>\n",
              "      <td>The Top Beaches In The World, According To Nat...</td>\n",
              "      <td>Beaches come in all sorts of shapes and sizes ...</td>\n",
              "      <td>clickbait</td>\n",
              "    </tr>\n",
              "    <tr>\n",
              "      <th>3</th>\n",
              "      <td>3</td>\n",
              "      <td>Sheriff’s Report Provides New Details on Tamir...</td>\n",
              "      <td>A timeline of what happened after Tamir Rice, ...</td>\n",
              "      <td>clickbait</td>\n",
              "    </tr>\n",
              "    <tr>\n",
              "      <th>4</th>\n",
              "      <td>4</td>\n",
              "      <td>Surgeon claiming he will transplant volunteer'...</td>\n",
              "      <td>An Italian neurosurgeon who has claimed for mo...</td>\n",
              "      <td>news</td>\n",
              "    </tr>\n",
              "    <tr>\n",
              "      <th>5</th>\n",
              "      <td>5</td>\n",
              "      <td>This Is How Differently Priced Spanx Can Actua...</td>\n",
              "      <td>Spanx does not do the thing I thought it did. ...</td>\n",
              "      <td>news</td>\n",
              "    </tr>\n",
              "    <tr>\n",
              "      <th>6</th>\n",
              "      <td>6</td>\n",
              "      <td>Samantha Bee and Jane Pauley Are Breaking the ...</td>\n",
              "      <td>“Jane Pauley! You’re all in leather,” said Sam...</td>\n",
              "      <td>news</td>\n",
              "    </tr>\n",
              "    <tr>\n",
              "      <th>7</th>\n",
              "      <td>7</td>\n",
              "      <td>Krauthammer: Syria Strike 'Total Contradiction...</td>\n",
              "      <td>Charles Krauthammer called President Trump's 5...</td>\n",
              "      <td>news</td>\n",
              "    </tr>\n",
              "    <tr>\n",
              "      <th>8</th>\n",
              "      <td>8</td>\n",
              "      <td>Rust Belt voters made Trump president. Now the...</td>\n",
              "      <td>The United States is making more things than e...</td>\n",
              "      <td>news</td>\n",
              "    </tr>\n",
              "    <tr>\n",
              "      <th>9</th>\n",
              "      <td>9</td>\n",
              "      <td>As Illegal Outpost Cleared, Israeli PM Netanya...</td>\n",
              "      <td>As Jewish settlers and protesters were removed...</td>\n",
              "      <td>news</td>\n",
              "    </tr>\n",
              "  </tbody>\n",
              "</table>\n",
              "</div>\n",
              "      <button class=\"colab-df-convert\" onclick=\"convertToInteractive('df-35876bf2-708b-44e4-92de-56caa78ca3dd')\"\n",
              "              title=\"Convert this dataframe to an interactive table.\"\n",
              "              style=\"display:none;\">\n",
              "        \n",
              "  <svg xmlns=\"http://www.w3.org/2000/svg\" height=\"24px\"viewBox=\"0 0 24 24\"\n",
              "       width=\"24px\">\n",
              "    <path d=\"M0 0h24v24H0V0z\" fill=\"none\"/>\n",
              "    <path d=\"M18.56 5.44l.94 2.06.94-2.06 2.06-.94-2.06-.94-.94-2.06-.94 2.06-2.06.94zm-11 1L8.5 8.5l.94-2.06 2.06-.94-2.06-.94L8.5 2.5l-.94 2.06-2.06.94zm10 10l.94 2.06.94-2.06 2.06-.94-2.06-.94-.94-2.06-.94 2.06-2.06.94z\"/><path d=\"M17.41 7.96l-1.37-1.37c-.4-.4-.92-.59-1.43-.59-.52 0-1.04.2-1.43.59L10.3 9.45l-7.72 7.72c-.78.78-.78 2.05 0 2.83L4 21.41c.39.39.9.59 1.41.59.51 0 1.02-.2 1.41-.59l7.78-7.78 2.81-2.81c.8-.78.8-2.07 0-2.86zM5.41 20L4 18.59l7.72-7.72 1.47 1.35L5.41 20z\"/>\n",
              "  </svg>\n",
              "      </button>\n",
              "      \n",
              "  <style>\n",
              "    .colab-df-container {\n",
              "      display:flex;\n",
              "      flex-wrap:wrap;\n",
              "      gap: 12px;\n",
              "    }\n",
              "\n",
              "    .colab-df-convert {\n",
              "      background-color: #E8F0FE;\n",
              "      border: none;\n",
              "      border-radius: 50%;\n",
              "      cursor: pointer;\n",
              "      display: none;\n",
              "      fill: #1967D2;\n",
              "      height: 32px;\n",
              "      padding: 0 0 0 0;\n",
              "      width: 32px;\n",
              "    }\n",
              "\n",
              "    .colab-df-convert:hover {\n",
              "      background-color: #E2EBFA;\n",
              "      box-shadow: 0px 1px 2px rgba(60, 64, 67, 0.3), 0px 1px 3px 1px rgba(60, 64, 67, 0.15);\n",
              "      fill: #174EA6;\n",
              "    }\n",
              "\n",
              "    [theme=dark] .colab-df-convert {\n",
              "      background-color: #3B4455;\n",
              "      fill: #D2E3FC;\n",
              "    }\n",
              "\n",
              "    [theme=dark] .colab-df-convert:hover {\n",
              "      background-color: #434B5C;\n",
              "      box-shadow: 0px 1px 3px 1px rgba(0, 0, 0, 0.15);\n",
              "      filter: drop-shadow(0px 1px 2px rgba(0, 0, 0, 0.3));\n",
              "      fill: #FFFFFF;\n",
              "    }\n",
              "  </style>\n",
              "\n",
              "      <script>\n",
              "        const buttonEl =\n",
              "          document.querySelector('#df-35876bf2-708b-44e4-92de-56caa78ca3dd button.colab-df-convert');\n",
              "        buttonEl.style.display =\n",
              "          google.colab.kernel.accessAllowed ? 'block' : 'none';\n",
              "\n",
              "        async function convertToInteractive(key) {\n",
              "          const element = document.querySelector('#df-35876bf2-708b-44e4-92de-56caa78ca3dd');\n",
              "          const dataTable =\n",
              "            await google.colab.kernel.invokeFunction('convertToInteractive',\n",
              "                                                     [key], {});\n",
              "          if (!dataTable) return;\n",
              "\n",
              "          const docLinkHtml = 'Like what you see? Visit the ' +\n",
              "            '<a target=\"_blank\" href=https://colab.research.google.com/notebooks/data_table.ipynb>data table notebook</a>'\n",
              "            + ' to learn more about interactive tables.';\n",
              "          element.innerHTML = '';\n",
              "          dataTable['output_type'] = 'display_data';\n",
              "          await google.colab.output.renderOutput(dataTable, element);\n",
              "          const docLink = document.createElement('div');\n",
              "          docLink.innerHTML = docLinkHtml;\n",
              "          element.appendChild(docLink);\n",
              "        }\n",
              "      </script>\n",
              "    </div>\n",
              "  </div>\n",
              "  "
            ]
          },
          "metadata": {},
          "execution_count": 4
        }
      ]
    },
    {
      "cell_type": "markdown",
      "source": [
        "## Data Visualisation"
      ],
      "metadata": {
        "id": "xwblTpN8cHYk"
      }
    },
    {
      "cell_type": "code",
      "source": [
        "sns.countplot(cb_data.clickbait)"
      ],
      "metadata": {
        "colab": {
          "base_uri": "https://localhost:8080/",
          "height": 351
        },
        "id": "ZWY9opfQdu3L",
        "outputId": "44342a13-a46b-4d1b-9ad7-905169033c9d"
      },
      "execution_count": null,
      "outputs": [
        {
          "output_type": "stream",
          "name": "stderr",
          "text": [
            "/usr/local/lib/python3.7/dist-packages/seaborn/_decorators.py:43: FutureWarning: Pass the following variable as a keyword arg: x. From version 0.12, the only valid positional argument will be `data`, and passing other arguments without an explicit keyword will result in an error or misinterpretation.\n",
            "  FutureWarning\n"
          ]
        },
        {
          "output_type": "execute_result",
          "data": {
            "text/plain": [
              "<matplotlib.axes._subplots.AxesSubplot at 0x7f04a527fd50>"
            ]
          },
          "metadata": {},
          "execution_count": 3
        },
        {
          "output_type": "display_data",
          "data": {
            "text/plain": [
              "<Figure size 432x288 with 1 Axes>"
            ],
            "image/png": "[encoded data removed]"
          },
          "metadata": {
            "needs_background": "light"
          }
        }
      ]
    },
    {
      "cell_type": "code",
      "source": [
        "\"\"\"caq=0\n",
        "canq=0\n",
        "ncaq=0\n",
        "ncanq=0\n",
        "for i in range(len(cb_data)):\n",
        "  text = cb_data.iloc[i,0]\n",
        "  if \"!\" in text:\n",
        "    x = cb_data.iloc[i,1]\n",
        "    if(x==1):\n",
        "      caq+=1\n",
        "    elif(x==0):\n",
        "      ncaq+=1\n",
        "  else:\n",
        "    y = cb_data.iloc[i,1]\n",
        "    if(y==1):\n",
        "      canq+=1\n",
        "    elif(y==0):\n",
        "      ncanq+=1\n",
        "print(caq, canq, ncaq, ncanq)\"\"\""
      ],
      "metadata": {
        "colab": {
          "base_uri": "https://localhost:8080/",
          "height": 70
        },
        "id": "_Gl7Sb-b-5Sz",
        "outputId": "d75aba9d-bfb6-4c9e-bf45-faf846255467"
      },
      "execution_count": null,
      "outputs": [
        {
          "output_type": "execute_result",
          "data": {
            "text/plain": [
              "'caq=0\\ncanq=0\\nncaq=0\\nncanq=0\\nfor i in range(len(cb_data)):\\n  text = cb_data.iloc[i,0]\\n  if \"!\" in text:\\n    x = cb_data.iloc[i,1]\\n    if(x==1):\\n      caq+=1\\n    elif(x==0):\\n      ncaq+=1\\n  else:\\n    y = cb_data.iloc[i,1]\\n    if(y==1):\\n      canq+=1\\n    elif(y==0):\\n      ncanq+=1\\nprint(caq, canq, ncaq, ncanq)'"
            ],
            "application/vnd.google.colaboratory.intrinsic+json": {
              "type": "string"
            }
          },
          "metadata": {},
          "execution_count": 4
        }
      ]
    },
    {
      "cell_type": "code",
      "source": [
        "\"\"\"can=0\n",
        "cann=0\n",
        "ncan=0\n",
        "ncann=0\n",
        "for i in range(len(cb_data)):\n",
        "  text = cb_data.iloc[i,0]\n",
        "  if(text[0].isdigit()):\n",
        "    x = cb_data.iloc[i,1]\n",
        "    if(x==1):\n",
        "      can+=1\n",
        "    elif(x==0):\n",
        "      ncan+=1\n",
        "  else:\n",
        "    y = cb_data.iloc[i,1]\n",
        "    if(y==1):\n",
        "      cann+=1\n",
        "    elif(y==0):\n",
        "      ncann+=1\n",
        "print(can, cann, ncan, ncann)\n",
        "numpresent = [can, ncan]\n",
        "numnotpresent = [cann, ncann]\n",
        "x = ['clickbaits', 'non-clickbaits']\n",
        "width = 0.3\n",
        "x_new = np.arange(len(x))\n",
        "plt.bar(x_new,numpresent, width=width, label='line1')\n",
        "plt.bar(x_new + width,numnotpresent, width=width, label = 'line2')\n",
        "plt.legend(['Starting with number','Not starting with number'])\n",
        "plt.xticks(ticks=x_new, labels=x)\"\"\"\n"
      ],
      "metadata": {
        "colab": {
          "base_uri": "https://localhost:8080/",
          "height": 105
        },
        "id": "WNQR2j50emCg",
        "outputId": "26e0eab5-1fa6-4e87-d621-c09cda721493"
      },
      "execution_count": null,
      "outputs": [
        {
          "output_type": "execute_result",
          "data": {
            "text/plain": [
              "\"can=0\\ncann=0\\nncan=0\\nncann=0\\nfor i in range(len(cb_data)):\\n  text = cb_data.iloc[i,0]\\n  if(text[0].isdigit()):\\n    x = cb_data.iloc[i,1]\\n    if(x==1):\\n      can+=1\\n    elif(x==0):\\n      ncan+=1\\n  else:\\n    y = cb_data.iloc[i,1]\\n    if(y==1):\\n      cann+=1\\n    elif(y==0):\\n      ncann+=1\\nprint(can, cann, ncan, ncann)\\nnumpresent = [can, ncan]\\nnumnotpresent = [cann, ncann]\\nx = ['clickbaits', 'non-clickbaits']\\nwidth = 0.3\\nx_new = np.arange(len(x))\\nplt.bar(x_new,numpresent, width=width, label='line1')\\nplt.bar(x_new + width,numnotpresent, width=width, label = 'line2')\\nplt.legend(['Starting with number','Not starting with number'])\\nplt.xticks(ticks=x_new, labels=x)\""
            ],
            "application/vnd.google.colaboratory.intrinsic+json": {
              "type": "string"
            }
          },
          "metadata": {},
          "execution_count": 5
        }
      ]
    },
    {
      "cell_type": "markdown",
      "source": [
        "# Splitting into Train and Test sets\n",
        "\n",
        "The dataset is splitted into training and testing sets. The percentage of training data is 75% and testing data is 25%."
      ],
      "metadata": {
        "id": "46VObEjSCJPa"
      }
    },
    {
      "cell_type": "code",
      "source": [
        "x=cb_data.title\n",
        "y=cb_data.clickbait\n",
        "train_x,test_x,train_y,test_y=train_test_split(x,y,test_size=0.25,random_state=2)"
      ],
      "metadata": {
        "trusted": true,
        "id": "VdwojnmOCJPc"
      },
      "execution_count": null,
      "outputs": []
    },
    {
      "cell_type": "markdown",
      "source": [
        "# Analyzing Train and Test Data"
      ],
      "metadata": {
        "id": "HgJcoVi-CJPg"
      }
    },
    {
      "cell_type": "code",
      "source": [
        "print(\"No. of elements in training set\")\n",
        "print(train_x.size)\n",
        "print(\"No. of elements in testing set\")\n",
        "print(test_x.size)"
      ],
      "metadata": {
        "trusted": true,
        "colab": {
          "base_uri": "https://localhost:8080/"
        },
        "id": "xY6-JgGyCJPi",
        "outputId": "75274197-12a7-4ed8-c00f-b014b6dd0643"
      },
      "execution_count": null,
      "outputs": [
        {
          "output_type": "stream",
          "name": "stdout",
          "text": [
            "No. of elements in training set\n",
            "15181\n",
            "No. of elements in testing set\n",
            "5061\n"
          ]
        }
      ]
    },
    {
      "cell_type": "code",
      "source": [
        "train_x.head(10)"
      ],
      "metadata": {
        "trusted": true,
        "colab": {
          "base_uri": "https://localhost:8080/"
        },
        "id": "gsppwVymCJPk",
        "outputId": "850f6b02-4b06-4526-f697-f529548ee111"
      },
      "execution_count": null,
      "outputs": [
        {
          "output_type": "execute_result",
          "data": {
            "text/plain": [
              "13985    Comment on Former CIA Officer: “Every Single T...\n",
              "3128     Payday Loans’ Debt Spiral to Be Curtailed - Th...\n",
              "12658                        7 reasons I'll vote for Trump\n",
              "15755    ’Terminate the B*tch with Extreme Prejudice’: ...\n",
              "14285    Pope Tells Marchers: Protect Life‘from the Mom...\n",
              "12928    Melania Trump Is First Catholic to Live in Whi...\n",
              "17040                              How to be late for work\n",
              "3236     Palestinian rivals, Mideast regional powers gr...\n",
              "5041     ’Destiny 2’ - Official Gameplay Reveal Trailer...\n",
              "7274               Letter for Mr Smith - part 2 The Main -\n",
              "Name: title, dtype: object"
            ]
          },
          "metadata": {},
          "execution_count": 8
        }
      ]
    },
    {
      "cell_type": "code",
      "source": [
        "train_y.head(10)"
      ],
      "metadata": {
        "trusted": true,
        "colab": {
          "base_uri": "https://localhost:8080/"
        },
        "id": "gUrXcXi8CJPm",
        "outputId": "0e7c399c-7cea-4abc-8ba0-ff19e4cb7cd2"
      },
      "execution_count": null,
      "outputs": [
        {
          "output_type": "execute_result",
          "data": {
            "text/plain": [
              "13985    0\n",
              "3128     0\n",
              "12658    1\n",
              "15755    0\n",
              "14285    1\n",
              "12928    1\n",
              "17040    1\n",
              "3236     0\n",
              "5041     1\n",
              "7274     1\n",
              "Name: clickbait, dtype: int64"
            ]
          },
          "metadata": {},
          "execution_count": 9
        }
      ]
    },
    {
      "cell_type": "code",
      "source": [
        "test_x.head(10)"
      ],
      "metadata": {
        "trusted": true,
        "colab": {
          "base_uri": "https://localhost:8080/"
        },
        "id": "QiYb0zz1CJPo",
        "outputId": "a2ca3048-b7dd-4147-dd55-29f353279a09"
      },
      "execution_count": null,
      "outputs": [
        {
          "output_type": "execute_result",
          "data": {
            "text/plain": [
              "18343    Torn Over Donald Trump and Cut Off by Culture ...\n",
              "17124    Dem Rep Gabbard: I’m ’Doing My Homework’ on th...\n",
              "11186    Dave Chappelle on Trump, Cosby and His Netflix...\n",
              "10076    Bombing at Bangladesh’s Largest Eid Gathering ...\n",
              "13728    A Dinosaur Cousin’s Crocodile Ankles Surprise ...\n",
              "8512       The truth about Zika: It's a grand medical hoax\n",
              "18994    Report: Barron Trump ’Panicked’ after Seeing K...\n",
              "5818        Не дадим российским роботам нападать на людей!\n",
              "8985     Aleppo Bombs Leave Quarter Million ‘Living in ...\n",
              "13712    Nunes Stepping Aside Temporarily from Russia P...\n",
              "Name: title, dtype: object"
            ]
          },
          "metadata": {},
          "execution_count": 10
        }
      ]
    },
    {
      "cell_type": "code",
      "source": [
        "test_y.head()\n",
        "test_y.value_counts()"
      ],
      "metadata": {
        "trusted": true,
        "colab": {
          "base_uri": "https://localhost:8080/"
        },
        "id": "qIM_KsUVCJPp",
        "outputId": "073c05e5-630b-4527-bef5-3ddf0c296527"
      },
      "execution_count": null,
      "outputs": [
        {
          "output_type": "execute_result",
          "data": {
            "text/plain": [
              "0    3689\n",
              "1    1372\n",
              "Name: clickbait, dtype: int64"
            ]
          },
          "metadata": {},
          "execution_count": 11
        }
      ]
    },
    {
      "cell_type": "markdown",
      "source": [
        "# Preprossing"
      ],
      "metadata": {
        "id": "gjKLN3kT4Xii"
      }
    },
    {
      "cell_type": "markdown",
      "source": [
        "## Tokenization of Data\n",
        "\n",
        "The data is tokenized i.e. split into tokens which are the smallest or minimal meaningful units. The data is split into words."
      ],
      "metadata": {
        "id": "NlfpLMGgCJPq"
      }
    },
    {
      "cell_type": "code",
      "source": [
        "def clickbait_tokenization(text):\n",
        "    temp=text.split()\n",
        "    return temp\n",
        "train_x=train_x.apply(clickbait_tokenization)\n",
        "test_x=test_x.apply(clickbait_tokenization)"
      ],
      "metadata": {
        "trusted": true,
        "id": "li-Gp3PkCJPr"
      },
      "execution_count": null,
      "outputs": []
    },
    {
      "cell_type": "markdown",
      "source": [
        "## Converting to lowercase\n",
        "\n",
        "The data is converted into lowercase to avoid ambiguity between same words in different cases like 'NLP', 'nlp' or 'Nlp'. "
      ],
      "metadata": {
        "id": "ieFf3HkHCJPt"
      }
    },
    {
      "cell_type": "code",
      "source": [
        "def clickbait_lowercasing(temp):\n",
        "    new_lst=[]\n",
        "    for i in temp:\n",
        "        i=i.lower()\n",
        "        new_lst.append(i)\n",
        "    return new_lst\n",
        "train_x=train_x.apply(clickbait_lowercasing)\n",
        "test_x=test_x.apply(clickbait_lowercasing)  "
      ],
      "metadata": {
        "trusted": true,
        "id": "YMOT1TIaCJPu",
        "colab": {
          "base_uri": "https://localhost:8080/",
          "height": 217
        },
        "outputId": "337f9b16-f021-47e2-e1ca-225261bde71d"
      },
      "execution_count": null,
      "outputs": [
        {
          "output_type": "error",
          "ename": "NameError",
          "evalue": "ignored",
          "traceback": [
            "\u001b[0;31m---------------------------------------------------------------------------\u001b[0m",
            "\u001b[0;31mNameError\u001b[0m                                 Traceback (most recent call last)",
            "\u001b[0;32m<ipython-input-1-4135283efc13>\u001b[0m in \u001b[0;36m<module>\u001b[0;34m()\u001b[0m\n\u001b[1;32m      5\u001b[0m         \u001b[0mnew_lst\u001b[0m\u001b[0;34m.\u001b[0m\u001b[0mappend\u001b[0m\u001b[0;34m(\u001b[0m\u001b[0mi\u001b[0m\u001b[0;34m)\u001b[0m\u001b[0;34m\u001b[0m\u001b[0;34m\u001b[0m\u001b[0m\n\u001b[1;32m      6\u001b[0m     \u001b[0;32mreturn\u001b[0m \u001b[0mnew_lst\u001b[0m\u001b[0;34m\u001b[0m\u001b[0;34m\u001b[0m\u001b[0m\n\u001b[0;32m----> 7\u001b[0;31m \u001b[0mtrain_x\u001b[0m\u001b[0;34m=\u001b[0m\u001b[0mtrain_x\u001b[0m\u001b[0;34m.\u001b[0m\u001b[0mapply\u001b[0m\u001b[0;34m(\u001b[0m\u001b[0mlowercasing\u001b[0m\u001b[0;34m)\u001b[0m\u001b[0;34m\u001b[0m\u001b[0;34m\u001b[0m\u001b[0m\n\u001b[0m\u001b[1;32m      8\u001b[0m \u001b[0mtest_x\u001b[0m\u001b[0;34m=\u001b[0m\u001b[0mtest_x\u001b[0m\u001b[0;34m.\u001b[0m\u001b[0mapply\u001b[0m\u001b[0;34m(\u001b[0m\u001b[0mlowercasing\u001b[0m\u001b[0;34m)\u001b[0m\u001b[0;34m\u001b[0m\u001b[0;34m\u001b[0m\u001b[0m\n",
            "\u001b[0;31mNameError\u001b[0m: name 'train_x' is not defined"
          ]
        }
      ]
    },
    {
      "cell_type": "markdown",
      "source": [
        "## Removing punctuation\n",
        "\n",
        "The punctuations are removed to increase the efficiency of the model. They are irrelevant because they provide no added information."
      ],
      "metadata": {
        "id": "EXxDPN_ECJPu"
      }
    },
    {
      "cell_type": "code",
      "source": [
        "def clickbait_remove_punctuations(temp):\n",
        "    new_lst=[]\n",
        "    for i in temp:\n",
        "        for j in s.punctuation:\n",
        "            i=i.replace(j,'')\n",
        "        new_lst.append(i)\n",
        "    return new_lst\n",
        "train_x=train_x.apply(clickbait_remove_punctuations)\n",
        "test_x=test_x.apply(clickbait_remove_punctuations)  "
      ],
      "metadata": {
        "trusted": true,
        "id": "CMMqzNjUCJPv"
      },
      "execution_count": null,
      "outputs": []
    },
    {
      "cell_type": "markdown",
      "source": [
        "## Removing Numbers"
      ],
      "metadata": {
        "id": "x6jN-cJ_CJPw"
      }
    },
    {
      "cell_type": "code",
      "source": [
        "def clickbait_remove_numbers(temp):\n",
        "    nodig_lst=[]\n",
        "    new_lst=[]\n",
        "    for i in temp:\n",
        "        for j in s.digits:    \n",
        "            i=i.replace(j,'')\n",
        "        nodig_lst.append(i)\n",
        "    for i in nodig_lst:\n",
        "        if i!='':\n",
        "            new_lst.append(i)\n",
        "    return new_lst\n",
        "train_x=train_x.apply(clickbait_remove_numbers)\n",
        "test_x=test_x.apply(clickbait_remove_numbers)"
      ],
      "metadata": {
        "trusted": true,
        "id": "2rgtrWS-CJPx"
      },
      "execution_count": null,
      "outputs": []
    },
    {
      "cell_type": "markdown",
      "source": [
        "## Removing Stopwords"
      ],
      "metadata": {
        "id": "vYPTlx19CJPx"
      }
    },
    {
      "cell_type": "code",
      "source": [
        "print(\"All stopwords of English language \")\n",
        "\", \".join(stopwords.words('english'))"
      ],
      "metadata": {
        "trusted": true,
        "colab": {
          "base_uri": "https://localhost:8080/"
        },
        "id": "qEAKCBheCJPy",
        "outputId": "ec877c35-7cf8-45d7-8da1-9fb82b39c54a"
      },
      "execution_count": null,
      "outputs": [
        {
          "output_type": "stream",
          "name": "stdout",
          "text": [
            "All stopwords of English language \n"
          ]
        },
        {
          "output_type": "execute_result",
          "data": {
            "text/plain": [
              "\"i, me, my, myself, we, our, ours, ourselves, you, you're, you've, you'll, you'd, your, yours, yourself, yourselves, he, him, his, himself, she, she's, her, hers, herself, it, it's, its, itself, they, them, their, theirs, themselves, what, which, who, whom, this, that, that'll, these, those, am, is, are, was, were, be, been, being, have, has, had, having, do, does, did, doing, a, an, the, and, but, if, or, because, as, until, while, of, at, by, for, with, about, against, between, into, through, during, before, after, above, below, to, from, up, down, in, out, on, off, over, under, again, further, then, once, here, there, when, where, why, how, all, any, both, each, few, more, most, other, some, such, no, nor, not, only, own, same, so, than, too, very, s, t, can, will, just, don, don't, should, should've, now, d, ll, m, o, re, ve, y, ain, aren, aren't, couldn, couldn't, didn, didn't, doesn, doesn't, hadn, hadn't, hasn, hasn't, haven, haven't, isn, isn't, ma, mightn, mightn't, mustn, mustn't, needn, needn't, shan, shan't, shouldn, shouldn't, wasn, wasn't, weren, weren't, won, won't, wouldn, wouldn't\""
            ],
            "application/vnd.google.colaboratory.intrinsic+json": {
              "type": "string"
            }
          },
          "metadata": {},
          "execution_count": 16
        }
      ]
    },
    {
      "cell_type": "code",
      "source": [
        "def clickbait_remove_stopwords(temp):\n",
        "    stop=stopwords.words('english')\n",
        "    new_lst=[]\n",
        "    for i in temp:\n",
        "        if i not in stop:\n",
        "            new_lst.append(i)\n",
        "    return new_lst\n",
        "\n",
        "train_x=train_x.apply(clickbait_remove_stopwords)\n",
        "test_x=test_x.apply(clickbait_remove_stopwords)  "
      ],
      "metadata": {
        "trusted": true,
        "id": "4vFBaE3WCJPz"
      },
      "execution_count": null,
      "outputs": []
    },
    {
      "cell_type": "markdown",
      "source": [
        "## Removing extra spaces"
      ],
      "metadata": {
        "id": "slRNCSeUCJPz"
      }
    },
    {
      "cell_type": "code",
      "source": [
        "def clickbait_remove_spaces(temp):\n",
        "    new_lst=[]\n",
        "    for i in temp:\n",
        "        i=i.strip()\n",
        "        new_lst.append(i)\n",
        "    return new_lst\n",
        "train_x=train_x.apply(clickbait_remove_spaces)\n",
        "test_x=test_x.apply(clickbait_remove_spaces)"
      ],
      "metadata": {
        "trusted": true,
        "id": "i-Wiayb9CJPz"
      },
      "execution_count": null,
      "outputs": []
    },
    {
      "cell_type": "markdown",
      "source": [
        "# Analyzing data after preprocessing\n",
        "\n",
        "After preprocessing the data i.e. after removing punctuation, stopwords, spaces and numbers."
      ],
      "metadata": {
        "id": "fl_zHHWfCJP0"
      }
    },
    {
      "cell_type": "code",
      "source": [
        "train_x.head()"
      ],
      "metadata": {
        "trusted": true,
        "colab": {
          "base_uri": "https://localhost:8080/"
        },
        "id": "iLVoczTMCJP0",
        "outputId": "db7049d2-2ca1-4edd-ae69-947abf902f01"
      },
      "execution_count": null,
      "outputs": [
        {
          "output_type": "execute_result",
          "data": {
            "text/plain": [
              "13985    [comment, former, cia, officer, “every, single...\n",
              "3128     [payday, loans’, debt, spiral, curtailed, new,...\n",
              "12658                          [reasons, ill, vote, trump]\n",
              "15755    [’terminate, btch, extreme, prejudice’, paramo...\n",
              "14285    [pope, tells, marchers, protect, life‘from, mo...\n",
              "Name: title, dtype: object"
            ]
          },
          "metadata": {},
          "execution_count": 19
        }
      ]
    },
    {
      "cell_type": "code",
      "source": [
        "test_x.head()"
      ],
      "metadata": {
        "trusted": true,
        "colab": {
          "base_uri": "https://localhost:8080/"
        },
        "id": "07f_utF3CJP1",
        "outputId": "17a5e24d-ace1-4da3-c3c3-72ef4c8cee50"
      },
      "execution_count": null,
      "outputs": [
        {
          "output_type": "execute_result",
          "data": {
            "text/plain": [
              "18343    [torn, donald, trump, cut, culture, wars, evan...\n",
              "17124    [dem, rep, gabbard, i’m, ’doing, homework’, im...\n",
              "11186    [dave, chappelle, trump, cosby, netflix, deal,...\n",
              "10076    [bombing, bangladesh’s, largest, eid, gatherin...\n",
              "13728    [dinosaur, cousin’s, crocodile, ankles, surpri...\n",
              "Name: title, dtype: object"
            ]
          },
          "metadata": {},
          "execution_count": 20
        }
      ]
    },
    {
      "cell_type": "markdown",
      "source": [
        "# Lemmatization\n",
        "\n",
        "Lemmatization in linguistics is the process of grouping together the inflected forms of a word so they can be analysed as a single item, identified by the word's lemma, or dictionary form. It involves the morphological analysis of words.\n",
        "\n",
        "In lemmatization we find the root word or base form of the word rather than just clipping some characters from the end e.g. *is, are, am* are all converted to its base form *be* in Lemmatization\n",
        "\n",
        "Here lemmatization is done using NLTK library."
      ],
      "metadata": {
        "id": "pz0XfW3tCJP1"
      }
    },
    {
      "cell_type": "code",
      "source": [
        "lemmatizer=nltk.stem.WordNetLemmatizer()\n",
        "def clickbait_lemmatzation(temp):\n",
        "    new_lst=[]\n",
        "    for i in temp:\n",
        "        i=lemmatizer.lemmatize(i)\n",
        "        new_lst.append(i)\n",
        "    return new_lst\n",
        "train_x=train_x.apply(clickbait_lemmatzation)\n",
        "test_x=test_x.apply(clickbait_lemmatzation)"
      ],
      "metadata": {
        "trusted": true,
        "id": "yITAqGQHCJP1"
      },
      "execution_count": null,
      "outputs": []
    },
    {
      "cell_type": "code",
      "source": [
        "train_x=train_x.apply(lambda x: ''.join(i+' ' for i in x))\n",
        "test_x=test_x.apply(lambda x: ''.join(i+' ' for i in x))"
      ],
      "metadata": {
        "trusted": true,
        "id": "LMOwB2bqCJP2"
      },
      "execution_count": null,
      "outputs": []
    },
    {
      "cell_type": "code",
      "source": [
        "\n",
        "freq_dist={}\n",
        "for i in train_x:\n",
        "    x=i.split()\n",
        "    for j in x:\n",
        "        if j not in freq_dist.keys():\n",
        "            freq_dist[j]=1\n",
        "        else:\n",
        "            freq_dist[j]+=1\n",
        "#freq_dist\n",
        "max_v=0\n",
        "for i in freq_dist.values():\n",
        "  if(i > max_v):\n",
        "    max_v = i\n",
        "\n",
        "'''lst = [0] * (max_v+1)\n",
        "for i in freq_dist.values():\n",
        "  lst[i]=lst[i]+1'''\n",
        "ct=0\n",
        "for i in freq_dist.values():\n",
        "  if(i > 2):\n",
        "    ct+=1\n",
        "ct"
      ],
      "metadata": {
        "trusted": true,
        "colab": {
          "base_uri": "https://localhost:8080/"
        },
        "id": "F7jOdl1JCJP2",
        "outputId": "7230549b-e711-4314-fc66-f42f042ba693"
      },
      "execution_count": null,
      "outputs": [
        {
          "output_type": "execute_result",
          "data": {
            "text/plain": [
              "6296"
            ]
          },
          "metadata": {},
          "execution_count": 23
        }
      ]
    },
    {
      "cell_type": "markdown",
      "source": [
        "# TF-IDF (Term frequency-Inverse Data Frequency)\n",
        "\n",
        "This method is used to convert the text into features."
      ],
      "metadata": {
        "id": "afITYlX3CJP3"
      }
    },
    {
      "cell_type": "code",
      "source": [
        "#analyzer=\"char_wb\", ngram_range=(2,4)\n",
        "from sklearn.feature_extraction.text import TfidfVectorizer\n",
        "tfidf=TfidfVectorizer(max_features=6296)\n",
        "train_1=tfidf.fit_transform(train_x)\n",
        "test_1=tfidf.transform(test_x)"
      ],
      "metadata": {
        "trusted": true,
        "id": "GbkxHqg5CJP3"
      },
      "execution_count": null,
      "outputs": []
    },
    {
      "cell_type": "code",
      "source": [
        "import pickle\n",
        "pickle.dump(tfidf, open('tfidfvect96.pkl', 'wb'))"
      ],
      "metadata": {
        "id": "FhVYV-5brUP4"
      },
      "execution_count": null,
      "outputs": []
    },
    {
      "cell_type": "code",
      "source": [
        "print(\"Number of features extracted\")\n",
        "print(len(tfidf.get_feature_names()))\n",
        "print()\n",
        "print(\"The 100 features extracted from TF-IDF \")\n",
        "print(tfidf.get_feature_names()[:100])\n"
      ],
      "metadata": {
        "trusted": true,
        "colab": {
          "base_uri": "https://localhost:8080/"
        },
        "id": "btF9QgkkCJP4",
        "outputId": "4214bfec-5031-49e8-90e4-9057de1ac147"
      },
      "execution_count": null,
      "outputs": [
        {
          "output_type": "stream",
          "name": "stdout",
          "text": [
            "Number of features extracted\n",
            "6296\n",
            "\n",
            "The 100 features extracted from TF-IDF \n",
            "['aaron', 'ab', 'abandon', 'abandoned', 'abbas', 'abc', 'abducted', 'abduction', 'abe', 'abedin', 'ability', 'able', 'aboard', 'abolish', 'abortion', 'abrams', 'abroad', 'absolute', 'absolutely', 'abstains', 'absurd', 'abu', 'abuse', 'abused', 'aca', 'academic', 'academy', 'accept', 'accepting', 'accepts', 'access', 'accident', 'accidentally', 'accomplished', 'according', 'account', 'accountable', 'accusation', 'accuse', 'accused', 'accuser', 'accuses', 'accusing', 'achievement', 'acid', 'acknowledge', 'acknowledges', 'aclu', 'acosta', 'acquisition', 'acquittal', 'acquitted', 'acre', 'across', 'act', 'acting', 'action', 'active', 'activism', 'activist', 'activity', 'actor', 'actress', 'actually', 'ad', 'adam', 'add', 'added', 'addicting', 'addiction', 'additional', 'address', 'addressing', 'adhd', 'admin', 'administration', 'admiral', 'admission', 'admit', 'admits', 'admitted', 'adopts', 'adult', 'advance', 'advanced', 'advert', 'advertiser', 'advertising', 'advice', 'advised', 'adviser', 'advisor', 'advocate', 'affair', 'affect', 'affiliate', 'affirmative', 'afford', 'affordable', 'afghan']\n"
          ]
        },
        {
          "output_type": "stream",
          "name": "stderr",
          "text": [
            "/usr/local/lib/python3.7/dist-packages/sklearn/utils/deprecation.py:87: FutureWarning: Function get_feature_names is deprecated; get_feature_names is deprecated in 1.0 and will be removed in 1.2. Please use get_feature_names_out instead.\n",
            "  warnings.warn(msg, category=FutureWarning)\n"
          ]
        }
      ]
    },
    {
      "cell_type": "code",
      "source": [
        "print(\"Shape of train set\",train_1.shape)\n",
        "print(\"Shape of test set\",test_1.shape)"
      ],
      "metadata": {
        "trusted": true,
        "colab": {
          "base_uri": "https://localhost:8080/"
        },
        "id": "XO4P8fRnCJP4",
        "outputId": "dd686832-ca95-498f-97c3-5e9f06eb97af"
      },
      "execution_count": null,
      "outputs": [
        {
          "output_type": "stream",
          "name": "stdout",
          "text": [
            "Shape of train set (15181, 6296)\n",
            "Shape of test set (5061, 6296)\n"
          ]
        }
      ]
    },
    {
      "cell_type": "code",
      "source": [
        "train_arr=train_1.toarray()\n",
        "test_arr=test_1.toarray()"
      ],
      "metadata": {
        "trusted": true,
        "id": "199-ophXCJP5"
      },
      "execution_count": null,
      "outputs": []
    },
    {
      "cell_type": "markdown",
      "source": [
        "# Define Naive Bayes Classifier"
      ],
      "metadata": {
        "id": "21CXYlIbCJP5"
      }
    },
    {
      "cell_type": "code",
      "source": [
        "NB_MN=MultinomialNB()"
      ],
      "metadata": {
        "trusted": true,
        "id": "7UFN6DanCJP6"
      },
      "execution_count": null,
      "outputs": []
    },
    {
      "cell_type": "markdown",
      "source": [
        "## Training the model"
      ],
      "metadata": {
        "id": "JMAiIyECCJP6"
      }
    },
    {
      "cell_type": "code",
      "source": [
        "NB_MN.fit(train_arr,train_y)\n",
        "pred=NB_MN.predict(test_arr)\n",
        "print('first 20 actual labels: ',test_y.tolist()[:20])\n",
        "print('first 20 predicted labels: ',pred.tolist()[:20])"
      ],
      "metadata": {
        "trusted": true,
        "colab": {
          "base_uri": "https://localhost:8080/"
        },
        "id": "5Bnq6LfFCJP6",
        "outputId": "adcb62d9-515b-4842-85c5-140a884601bb"
      },
      "execution_count": null,
      "outputs": [
        {
          "output_type": "stream",
          "name": "stdout",
          "text": [
            "first 20 actual labels:  [1, 0, 1, 0, 1, 0, 1, 0, 0, 0, 0, 0, 1, 0, 0, 0, 1, 0, 0, 0]\n",
            "first 20 predicted labels:  [0, 0, 0, 0, 0, 0, 1, 0, 0, 0, 0, 0, 0, 0, 0, 0, 0, 0, 0, 0]\n"
          ]
        }
      ]
    },
    {
      "cell_type": "markdown",
      "source": [
        "# Evaluation of Result\n",
        "\n",
        "The Accuracy and F1 score of the model are printed to evaluate the model for text classification."
      ],
      "metadata": {
        "id": "X-mdfHXjCJP7"
      }
    },
    {
      "cell_type": "code",
      "source": [
        "from sklearn.metrics import f1_score,accuracy_score\n",
        "print(\"F1 score of the model\")\n",
        "print(f1_score(test_y,pred))\n",
        "print(\"Accuracy of the model\")\n",
        "print(accuracy_score(test_y,pred))\n",
        "print(\"Accuracy of the model in percentage\")\n",
        "print(accuracy_score(test_y,pred)*100,\"%\")"
      ],
      "metadata": {
        "trusted": true,
        "colab": {
          "base_uri": "https://localhost:8080/"
        },
        "id": "6FC2BvYICJP7",
        "outputId": "898d7e8e-cef4-4b6a-83a2-23ac9840be1e"
      },
      "execution_count": null,
      "outputs": [
        {
          "output_type": "stream",
          "name": "stdout",
          "text": [
            "F1 score of the model\n",
            "0.5682394723490615\n",
            "Accuracy of the model\n",
            "0.8318514127642759\n",
            "Accuracy of the model in percentage\n",
            "83.18514127642759 %\n"
          ]
        }
      ]
    },
    {
      "cell_type": "code",
      "source": [
        ""
      ],
      "metadata": {
        "id": "eHDrch_ozr59"
      },
      "execution_count": null,
      "outputs": []
    },
    {
      "cell_type": "code",
      "source": [
        "from sklearn.metrics import confusion_matrix\n",
        "print(\"Confusion Matrix\")\n",
        "confusion_mat= confusion_matrix(test_y,pred)\n",
        "print(confusion_mat)\n",
        "\n",
        "from sklearn.metrics import classification_report\n",
        "print(\"Classification Report\")\n",
        "print(classification_report(test_y,pred))"
      ],
      "metadata": {
        "trusted": true,
        "colab": {
          "base_uri": "https://localhost:8080/"
        },
        "id": "d8OXSrYACJP8",
        "outputId": "47fbd16a-925e-44ce-f6b2-aef876310acd"
      },
      "execution_count": null,
      "outputs": [
        {
          "output_type": "stream",
          "name": "stdout",
          "text": [
            "Confusion Matrix\n",
            "[[3650   39]\n",
            " [ 812  560]]\n",
            "Classification Report\n",
            "              precision    recall  f1-score   support\n",
            "\n",
            "           0       0.82      0.99      0.90      3689\n",
            "           1       0.93      0.41      0.57      1372\n",
            "\n",
            "    accuracy                           0.83      5061\n",
            "   macro avg       0.88      0.70      0.73      5061\n",
            "weighted avg       0.85      0.83      0.81      5061\n",
            "\n"
          ]
        }
      ]
    },
    {
      "cell_type": "code",
      "source": [
        "import seaborn as sns\n",
        "ax = sns.heatmap(confusion_mat/np.sum(confusion_mat), annot=True,fmt='.2%', cmap='Blues')\n",
        "ax.set_title('Confusion Matrix with labels and percentage\\n\\n');\n",
        "ax.set_xlabel('\\nPredicted Values')\n",
        "ax.set_ylabel('Actual Values ');\n",
        "ax.xaxis.set_ticklabels(['False','True'])\n",
        "ax.yaxis.set_ticklabels(['False','True'])\n",
        "plt.show()"
      ],
      "metadata": {
        "id": "CVSAbxjlCfl3",
        "outputId": "2214b778-b1c5-4967-85af-7803036d5c1e",
        "colab": {
          "base_uri": "https://localhost:8080/",
          "height": 337
        }
      },
      "execution_count": null,
      "outputs": [
        {
          "output_type": "display_data",
          "data": {
            "text/plain": [
              "<Figure size 432x288 with 2 Axes>"
            ],
            "image/png": "[encoded data removed]"
          },
          "metadata": {
            "needs_background": "light"
          }
        }
      ]
    },
    {
      "cell_type": "code",
      "source": [
        "import pickle \n",
        "pickle.dump(NB_MN, open('naive96.pkl', 'wb'))"
      ],
      "metadata": {
        "id": "zwcai8zDreKg"
      },
      "execution_count": null,
      "outputs": []
    }
  ]
}