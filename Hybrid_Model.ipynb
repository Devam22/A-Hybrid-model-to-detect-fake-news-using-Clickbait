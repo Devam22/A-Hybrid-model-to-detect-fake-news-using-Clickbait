{
  "nbformat": 4,
  "nbformat_minor": 0,
  "metadata": {
    "colab": {
      "name": "Hybrid Model.ipynb",
      "provenance": [],
      "collapsed_sections": [
        "YGyypwfKTKVC",
        "FIeSXT0-nkCL",
        "tzeoZForq0fJ"
      ]
    },
    "kernelspec": {
      "name": "python3",
      "display_name": "Python 3"
    },
    "accelerator": "GPU"
  },
  "cells": [
    {
      "cell_type": "code",
      "metadata": {
        "id": "5jveho83Hh1K",
        "colab": {
          "base_uri": "https://localhost:8080/"
        },
        "outputId": "aec3badf-9e7d-480f-b0cd-65aa7197fe38"
      },
      "source": [
        "import numpy as np \n",
        "import pandas as pd \n",
        "from tensorflow.keras.layers import Embedding\n",
        "from tensorflow.keras.preprocessing.sequence import pad_sequences\n",
        "from tensorflow.keras.preprocessing.text import one_hot\n",
        "from tensorflow.keras.models import Sequential\n",
        "from tensorflow.keras.layers import LSTM, Dense\n",
        "import seaborn as sns\n",
        "import nltk\n",
        "nltk.download('stopwords')\n",
        "nltk.download('wordnet')\n",
        "from nltk.corpus import stopwords\n",
        "from nltk.probability import FreqDist\n",
        "import string as s\n",
        "import re\n",
        "import matplotlib.pyplot as plt\n",
        "from sklearn.model_selection import cross_val_score\n",
        "from sklearn.naive_bayes import MultinomialNB\n",
        "from sklearn.model_selection import train_test_split\n",
        "import os\n",
        "nltk.download('punkt')\n",
        "from nltk.stem.porter import PorterStemmer\n",
        "ps = PorterStemmer()"
      ],
      "execution_count": null,
      "outputs": [
        {
          "output_type": "stream",
          "name": "stdout",
          "text": [
            "[nltk_data] Downloading package stopwords to /root/nltk_data...\n",
            "[nltk_data]   Unzipping corpora/stopwords.zip.\n",
            "[nltk_data] Downloading package wordnet to /root/nltk_data...\n",
            "[nltk_data]   Unzipping corpora/wordnet.zip.\n",
            "[nltk_data] Downloading package punkt to /root/nltk_data...\n",
            "[nltk_data]   Unzipping tokenizers/punkt.zip.\n"
          ]
        }
      ]
    },
    {
      "cell_type": "code",
      "source": [
        "df = pd.read_csv('FakeNews_and_Clickbait_Detection.csv')\n",
        "df.head(5)"
      ],
      "metadata": {
        "colab": {
          "base_uri": "https://localhost:8080/",
          "height": 285
        },
        "id": "KvvFQD8wJ78l",
        "outputId": "922da635-5957-4cd2-f4c8-8b8314fca160"
      },
      "execution_count": null,
      "outputs": [
        {
          "output_type": "execute_result",
          "data": {
            "text/plain": [
              "   Unnamed: 0  id                                              title  \\\n",
              "0           0   0  House Dem Aide: We Didn’t Even See Comey’s Let...   \n",
              "1           1   1  FLYNN: Hillary Clinton, Big Woman on Campus - ...   \n",
              "2           2   2                  Why the Truth Might Get You Fired   \n",
              "3           3   3  15 Civilians Killed In Single US Airstrike Hav...   \n",
              "4           4   4  Iranian woman jailed for fictional unpublished...   \n",
              "\n",
              "               author                                               text  \\\n",
              "0       Darrell Lucus  House Dem Aide: We Didn’t Even See Comey’s Let...   \n",
              "1     Daniel J. Flynn  Ever get the feeling your life circles the rou...   \n",
              "2  Consortiumnews.com  Why the Truth Might Get You Fired October 29, ...   \n",
              "3     Jessica Purkiss  Videos 15 Civilians Killed In Single US Airstr...   \n",
              "4      Howard Portnoy  Print \\nAn Iranian woman has been sentenced to...   \n",
              "\n",
              "   label  clickbait  \n",
              "0      1          1  \n",
              "1      0          0  \n",
              "2      1          1  \n",
              "3      1          0  \n",
              "4      1          0  "
            ],
            "text/html": [
              "\n",
              "  <div id=\"df-6c70162f-e621-4132-a1ec-e87d35b1b5d6\">\n",
              "    <div class=\"colab-df-container\">\n",
              "      <div>\n",
              "<style scoped>\n",
              "    .dataframe tbody tr th:only-of-type {\n",
              "        vertical-align: middle;\n",
              "    }\n",
              "\n",
              "    .dataframe tbody tr th {\n",
              "        vertical-align: top;\n",
              "    }\n",
              "\n",
              "    .dataframe thead th {\n",
              "        text-align: right;\n",
              "    }\n",
              "</style>\n",
              "<table border=\"1\" class=\"dataframe\">\n",
              "  <thead>\n",
              "    <tr style=\"text-align: right;\">\n",
              "      <th></th>\n",
              "      <th>Unnamed: 0</th>\n",
              "      <th>id</th>\n",
              "      <th>title</th>\n",
              "      <th>author</th>\n",
              "      <th>text</th>\n",
              "      <th>label</th>\n",
              "      <th>clickbait</th>\n",
              "    </tr>\n",
              "  </thead>\n",
              "  <tbody>\n",
              "    <tr>\n",
              "      <th>0</th>\n",
              "      <td>0</td>\n",
              "      <td>0</td>\n",
              "      <td>House Dem Aide: We Didn’t Even See Comey’s Let...</td>\n",
              "      <td>Darrell Lucus</td>\n",
              "      <td>House Dem Aide: We Didn’t Even See Comey’s Let...</td>\n",
              "      <td>1</td>\n",
              "      <td>1</td>\n",
              "    </tr>\n",
              "    <tr>\n",
              "      <th>1</th>\n",
              "      <td>1</td>\n",
              "      <td>1</td>\n",
              "      <td>FLYNN: Hillary Clinton, Big Woman on Campus - ...</td>\n",
              "      <td>Daniel J. Flynn</td>\n",
              "      <td>Ever get the feeling your life circles the rou...</td>\n",
              "      <td>0</td>\n",
              "      <td>0</td>\n",
              "    </tr>\n",
              "    <tr>\n",
              "      <th>2</th>\n",
              "      <td>2</td>\n",
              "      <td>2</td>\n",
              "      <td>Why the Truth Might Get You Fired</td>\n",
              "      <td>Consortiumnews.com</td>\n",
              "      <td>Why the Truth Might Get You Fired October 29, ...</td>\n",
              "      <td>1</td>\n",
              "      <td>1</td>\n",
              "    </tr>\n",
              "    <tr>\n",
              "      <th>3</th>\n",
              "      <td>3</td>\n",
              "      <td>3</td>\n",
              "      <td>15 Civilians Killed In Single US Airstrike Hav...</td>\n",
              "      <td>Jessica Purkiss</td>\n",
              "      <td>Videos 15 Civilians Killed In Single US Airstr...</td>\n",
              "      <td>1</td>\n",
              "      <td>0</td>\n",
              "    </tr>\n",
              "    <tr>\n",
              "      <th>4</th>\n",
              "      <td>4</td>\n",
              "      <td>4</td>\n",
              "      <td>Iranian woman jailed for fictional unpublished...</td>\n",
              "      <td>Howard Portnoy</td>\n",
              "      <td>Print \\nAn Iranian woman has been sentenced to...</td>\n",
              "      <td>1</td>\n",
              "      <td>0</td>\n",
              "    </tr>\n",
              "  </tbody>\n",
              "</table>\n",
              "</div>\n",
              "      <button class=\"colab-df-convert\" onclick=\"convertToInteractive('df-6c70162f-e621-4132-a1ec-e87d35b1b5d6')\"\n",
              "              title=\"Convert this dataframe to an interactive table.\"\n",
              "              style=\"display:none;\">\n",
              "        \n",
              "  <svg xmlns=\"http://www.w3.org/2000/svg\" height=\"24px\"viewBox=\"0 0 24 24\"\n",
              "       width=\"24px\">\n",
              "    <path d=\"M0 0h24v24H0V0z\" fill=\"none\"/>\n",
              "    <path d=\"M18.56 5.44l.94 2.06.94-2.06 2.06-.94-2.06-.94-.94-2.06-.94 2.06-2.06.94zm-11 1L8.5 8.5l.94-2.06 2.06-.94-2.06-.94L8.5 2.5l-.94 2.06-2.06.94zm10 10l.94 2.06.94-2.06 2.06-.94-2.06-.94-.94-2.06-.94 2.06-2.06.94z\"/><path d=\"M17.41 7.96l-1.37-1.37c-.4-.4-.92-.59-1.43-.59-.52 0-1.04.2-1.43.59L10.3 9.45l-7.72 7.72c-.78.78-.78 2.05 0 2.83L4 21.41c.39.39.9.59 1.41.59.51 0 1.02-.2 1.41-.59l7.78-7.78 2.81-2.81c.8-.78.8-2.07 0-2.86zM5.41 20L4 18.59l7.72-7.72 1.47 1.35L5.41 20z\"/>\n",
              "  </svg>\n",
              "      </button>\n",
              "      \n",
              "  <style>\n",
              "    .colab-df-container {\n",
              "      display:flex;\n",
              "      flex-wrap:wrap;\n",
              "      gap: 12px;\n",
              "    }\n",
              "\n",
              "    .colab-df-convert {\n",
              "      background-color: #E8F0FE;\n",
              "      border: none;\n",
              "      border-radius: 50%;\n",
              "      cursor: pointer;\n",
              "      display: none;\n",
              "      fill: #1967D2;\n",
              "      height: 32px;\n",
              "      padding: 0 0 0 0;\n",
              "      width: 32px;\n",
              "    }\n",
              "\n",
              "    .colab-df-convert:hover {\n",
              "      background-color: #E2EBFA;\n",
              "      box-shadow: 0px 1px 2px rgba(60, 64, 67, 0.3), 0px 1px 3px 1px rgba(60, 64, 67, 0.15);\n",
              "      fill: #174EA6;\n",
              "    }\n",
              "\n",
              "    [theme=dark] .colab-df-convert {\n",
              "      background-color: #3B4455;\n",
              "      fill: #D2E3FC;\n",
              "    }\n",
              "\n",
              "    [theme=dark] .colab-df-convert:hover {\n",
              "      background-color: #434B5C;\n",
              "      box-shadow: 0px 1px 3px 1px rgba(0, 0, 0, 0.15);\n",
              "      filter: drop-shadow(0px 1px 2px rgba(0, 0, 0, 0.3));\n",
              "      fill: #FFFFFF;\n",
              "    }\n",
              "  </style>\n",
              "\n",
              "      <script>\n",
              "        const buttonEl =\n",
              "          document.querySelector('#df-6c70162f-e621-4132-a1ec-e87d35b1b5d6 button.colab-df-convert');\n",
              "        buttonEl.style.display =\n",
              "          google.colab.kernel.accessAllowed ? 'block' : 'none';\n",
              "\n",
              "        async function convertToInteractive(key) {\n",
              "          const element = document.querySelector('#df-6c70162f-e621-4132-a1ec-e87d35b1b5d6');\n",
              "          const dataTable =\n",
              "            await google.colab.kernel.invokeFunction('convertToInteractive',\n",
              "                                                     [key], {});\n",
              "          if (!dataTable) return;\n",
              "\n",
              "          const docLinkHtml = 'Like what you see? Visit the ' +\n",
              "            '<a target=\"_blank\" href=https://colab.research.google.com/notebooks/data_table.ipynb>data table notebook</a>'\n",
              "            + ' to learn more about interactive tables.';\n",
              "          element.innerHTML = '';\n",
              "          dataTable['output_type'] = 'display_data';\n",
              "          await google.colab.output.renderOutput(dataTable, element);\n",
              "          const docLink = document.createElement('div');\n",
              "          docLink.innerHTML = docLinkHtml;\n",
              "          element.appendChild(docLink);\n",
              "        }\n",
              "      </script>\n",
              "    </div>\n",
              "  </div>\n",
              "  "
            ]
          },
          "metadata": {},
          "execution_count": 2
        }
      ]
    },
    {
      "cell_type": "code",
      "source": [
        "df = df.dropna()"
      ],
      "metadata": {
        "id": "5TuH7H1As1_c"
      },
      "execution_count": null,
      "outputs": []
    },
    {
      "cell_type": "code",
      "source": [
        "x = df.drop(df.columns[[0,5,6]], axis = 1)\n",
        "y = pd.DataFrame()\n",
        "y['label'] = df['label'].values\n",
        "y['clickbait'] = df['clickbait'].values"
      ],
      "metadata": {
        "id": "6YV1NBNRZ575"
      },
      "execution_count": null,
      "outputs": []
    },
    {
      "cell_type": "code",
      "source": [
        "X_train, X_test, y_train, y_test = train_test_split(x, y, test_size=0.20, random_state=42)"
      ],
      "metadata": {
        "id": "dLfUmh7z13dr"
      },
      "execution_count": null,
      "outputs": []
    },
    {
      "cell_type": "code",
      "source": [
        "len(X_train)\n",
        "X_train.head(5)"
      ],
      "metadata": {
        "colab": {
          "base_uri": "https://localhost:8080/",
          "height": 206
        },
        "id": "w966XMvN5jqw",
        "outputId": "2d0e016f-c9d1-45e1-fccc-f7045a00677b"
      },
      "execution_count": null,
      "outputs": [
        {
          "output_type": "execute_result",
          "data": {
            "text/plain": [
              "          id                                              title  \\\n",
              "6179    6354  Volatility Returns to Oil Market After OPEC De...   \n",
              "14752  15151  No Debate That Hillary Clinton’s Polling Numbe...   \n",
              "5595    5755  Lie to Me: Fiction in the Post-Truth Era - The...   \n",
              "16460  16898    Halloween, Instagram Style - The New York Times   \n",
              "614      628  There’s Only One Trump Administration Position...   \n",
              "\n",
              "                author                                               text  \n",
              "6179       Jad Mouawad  It’s back to Square 1 for the oil markets. The...  \n",
              "14752        Nate Cohn  The   polls are beginning to trickle in, and i...  \n",
              "5595       Adam Kirsch  American novelists have long complained about ...  \n",
              "16460  Bonnie Wertheim  Last night Eleven from “Stranger Things” and t...  \n",
              "614        John Carney  While support for the Trump administration’s p...  "
            ],
            "text/html": [
              "\n",
              "  <div id=\"df-8c7ebe49-bcda-4572-a3ac-aa9df46a25ed\">\n",
              "    <div class=\"colab-df-container\">\n",
              "      <div>\n",
              "<style scoped>\n",
              "    .dataframe tbody tr th:only-of-type {\n",
              "        vertical-align: middle;\n",
              "    }\n",
              "\n",
              "    .dataframe tbody tr th {\n",
              "        vertical-align: top;\n",
              "    }\n",
              "\n",
              "    .dataframe thead th {\n",
              "        text-align: right;\n",
              "    }\n",
              "</style>\n",
              "<table border=\"1\" class=\"dataframe\">\n",
              "  <thead>\n",
              "    <tr style=\"text-align: right;\">\n",
              "      <th></th>\n",
              "      <th>id</th>\n",
              "      <th>title</th>\n",
              "      <th>author</th>\n",
              "      <th>text</th>\n",
              "    </tr>\n",
              "  </thead>\n",
              "  <tbody>\n",
              "    <tr>\n",
              "      <th>6179</th>\n",
              "      <td>6354</td>\n",
              "      <td>Volatility Returns to Oil Market After OPEC De...</td>\n",
              "      <td>Jad Mouawad</td>\n",
              "      <td>It’s back to Square 1 for the oil markets. The...</td>\n",
              "    </tr>\n",
              "    <tr>\n",
              "      <th>14752</th>\n",
              "      <td>15151</td>\n",
              "      <td>No Debate That Hillary Clinton’s Polling Numbe...</td>\n",
              "      <td>Nate Cohn</td>\n",
              "      <td>The   polls are beginning to trickle in, and i...</td>\n",
              "    </tr>\n",
              "    <tr>\n",
              "      <th>5595</th>\n",
              "      <td>5755</td>\n",
              "      <td>Lie to Me: Fiction in the Post-Truth Era - The...</td>\n",
              "      <td>Adam Kirsch</td>\n",
              "      <td>American novelists have long complained about ...</td>\n",
              "    </tr>\n",
              "    <tr>\n",
              "      <th>16460</th>\n",
              "      <td>16898</td>\n",
              "      <td>Halloween, Instagram Style - The New York Times</td>\n",
              "      <td>Bonnie Wertheim</td>\n",
              "      <td>Last night Eleven from “Stranger Things” and t...</td>\n",
              "    </tr>\n",
              "    <tr>\n",
              "      <th>614</th>\n",
              "      <td>628</td>\n",
              "      <td>There’s Only One Trump Administration Position...</td>\n",
              "      <td>John Carney</td>\n",
              "      <td>While support for the Trump administration’s p...</td>\n",
              "    </tr>\n",
              "  </tbody>\n",
              "</table>\n",
              "</div>\n",
              "      <button class=\"colab-df-convert\" onclick=\"convertToInteractive('df-8c7ebe49-bcda-4572-a3ac-aa9df46a25ed')\"\n",
              "              title=\"Convert this dataframe to an interactive table.\"\n",
              "              style=\"display:none;\">\n",
              "        \n",
              "  <svg xmlns=\"http://www.w3.org/2000/svg\" height=\"24px\"viewBox=\"0 0 24 24\"\n",
              "       width=\"24px\">\n",
              "    <path d=\"M0 0h24v24H0V0z\" fill=\"none\"/>\n",
              "    <path d=\"M18.56 5.44l.94 2.06.94-2.06 2.06-.94-2.06-.94-.94-2.06-.94 2.06-2.06.94zm-11 1L8.5 8.5l.94-2.06 2.06-.94-2.06-.94L8.5 2.5l-.94 2.06-2.06.94zm10 10l.94 2.06.94-2.06 2.06-.94-2.06-.94-.94-2.06-.94 2.06-2.06.94z\"/><path d=\"M17.41 7.96l-1.37-1.37c-.4-.4-.92-.59-1.43-.59-.52 0-1.04.2-1.43.59L10.3 9.45l-7.72 7.72c-.78.78-.78 2.05 0 2.83L4 21.41c.39.39.9.59 1.41.59.51 0 1.02-.2 1.41-.59l7.78-7.78 2.81-2.81c.8-.78.8-2.07 0-2.86zM5.41 20L4 18.59l7.72-7.72 1.47 1.35L5.41 20z\"/>\n",
              "  </svg>\n",
              "      </button>\n",
              "      \n",
              "  <style>\n",
              "    .colab-df-container {\n",
              "      display:flex;\n",
              "      flex-wrap:wrap;\n",
              "      gap: 12px;\n",
              "    }\n",
              "\n",
              "    .colab-df-convert {\n",
              "      background-color: #E8F0FE;\n",
              "      border: none;\n",
              "      border-radius: 50%;\n",
              "      cursor: pointer;\n",
              "      display: none;\n",
              "      fill: #1967D2;\n",
              "      height: 32px;\n",
              "      padding: 0 0 0 0;\n",
              "      width: 32px;\n",
              "    }\n",
              "\n",
              "    .colab-df-convert:hover {\n",
              "      background-color: #E2EBFA;\n",
              "      box-shadow: 0px 1px 2px rgba(60, 64, 67, 0.3), 0px 1px 3px 1px rgba(60, 64, 67, 0.15);\n",
              "      fill: #174EA6;\n",
              "    }\n",
              "\n",
              "    [theme=dark] .colab-df-convert {\n",
              "      background-color: #3B4455;\n",
              "      fill: #D2E3FC;\n",
              "    }\n",
              "\n",
              "    [theme=dark] .colab-df-convert:hover {\n",
              "      background-color: #434B5C;\n",
              "      box-shadow: 0px 1px 3px 1px rgba(0, 0, 0, 0.15);\n",
              "      filter: drop-shadow(0px 1px 2px rgba(0, 0, 0, 0.3));\n",
              "      fill: #FFFFFF;\n",
              "    }\n",
              "  </style>\n",
              "\n",
              "      <script>\n",
              "        const buttonEl =\n",
              "          document.querySelector('#df-8c7ebe49-bcda-4572-a3ac-aa9df46a25ed button.colab-df-convert');\n",
              "        buttonEl.style.display =\n",
              "          google.colab.kernel.accessAllowed ? 'block' : 'none';\n",
              "\n",
              "        async function convertToInteractive(key) {\n",
              "          const element = document.querySelector('#df-8c7ebe49-bcda-4572-a3ac-aa9df46a25ed');\n",
              "          const dataTable =\n",
              "            await google.colab.kernel.invokeFunction('convertToInteractive',\n",
              "                                                     [key], {});\n",
              "          if (!dataTable) return;\n",
              "\n",
              "          const docLinkHtml = 'Like what you see? Visit the ' +\n",
              "            '<a target=\"_blank\" href=https://colab.research.google.com/notebooks/data_table.ipynb>data table notebook</a>'\n",
              "            + ' to learn more about interactive tables.';\n",
              "          element.innerHTML = '';\n",
              "          dataTable['output_type'] = 'display_data';\n",
              "          await google.colab.output.renderOutput(dataTable, element);\n",
              "          const docLink = document.createElement('div');\n",
              "          docLink.innerHTML = docLinkHtml;\n",
              "          element.appendChild(docLink);\n",
              "        }\n",
              "      </script>\n",
              "    </div>\n",
              "  </div>\n",
              "  "
            ]
          },
          "metadata": {},
          "execution_count": 6
        }
      ]
    },
    {
      "cell_type": "code",
      "source": [
        "len(X_train)\n",
        "X_train.head(5)"
      ],
      "metadata": {
        "colab": {
          "base_uri": "https://localhost:8080/",
          "height": 206
        },
        "id": "-iDP1TZc52-f",
        "outputId": "e070ebd3-cc6f-443e-9732-6f248c96a893"
      },
      "execution_count": null,
      "outputs": [
        {
          "output_type": "execute_result",
          "data": {
            "text/plain": [
              "          id                                              title  \\\n",
              "6179    6354  Volatility Returns to Oil Market After OPEC De...   \n",
              "14752  15151  No Debate That Hillary Clinton’s Polling Numbe...   \n",
              "5595    5755  Lie to Me: Fiction in the Post-Truth Era - The...   \n",
              "16460  16898    Halloween, Instagram Style - The New York Times   \n",
              "614      628  There’s Only One Trump Administration Position...   \n",
              "\n",
              "                author                                               text  \n",
              "6179       Jad Mouawad  It’s back to Square 1 for the oil markets. The...  \n",
              "14752        Nate Cohn  The   polls are beginning to trickle in, and i...  \n",
              "5595       Adam Kirsch  American novelists have long complained about ...  \n",
              "16460  Bonnie Wertheim  Last night Eleven from “Stranger Things” and t...  \n",
              "614        John Carney  While support for the Trump administration’s p...  "
            ],
            "text/html": [
              "\n",
              "  <div id=\"df-e5b8a121-24fe-445d-98f5-4a05b16ee13f\">\n",
              "    <div class=\"colab-df-container\">\n",
              "      <div>\n",
              "<style scoped>\n",
              "    .dataframe tbody tr th:only-of-type {\n",
              "        vertical-align: middle;\n",
              "    }\n",
              "\n",
              "    .dataframe tbody tr th {\n",
              "        vertical-align: top;\n",
              "    }\n",
              "\n",
              "    .dataframe thead th {\n",
              "        text-align: right;\n",
              "    }\n",
              "</style>\n",
              "<table border=\"1\" class=\"dataframe\">\n",
              "  <thead>\n",
              "    <tr style=\"text-align: right;\">\n",
              "      <th></th>\n",
              "      <th>id</th>\n",
              "      <th>title</th>\n",
              "      <th>author</th>\n",
              "      <th>text</th>\n",
              "    </tr>\n",
              "  </thead>\n",
              "  <tbody>\n",
              "    <tr>\n",
              "      <th>6179</th>\n",
              "      <td>6354</td>\n",
              "      <td>Volatility Returns to Oil Market After OPEC De...</td>\n",
              "      <td>Jad Mouawad</td>\n",
              "      <td>It’s back to Square 1 for the oil markets. The...</td>\n",
              "    </tr>\n",
              "    <tr>\n",
              "      <th>14752</th>\n",
              "      <td>15151</td>\n",
              "      <td>No Debate That Hillary Clinton’s Polling Numbe...</td>\n",
              "      <td>Nate Cohn</td>\n",
              "      <td>The   polls are beginning to trickle in, and i...</td>\n",
              "    </tr>\n",
              "    <tr>\n",
              "      <th>5595</th>\n",
              "      <td>5755</td>\n",
              "      <td>Lie to Me: Fiction in the Post-Truth Era - The...</td>\n",
              "      <td>Adam Kirsch</td>\n",
              "      <td>American novelists have long complained about ...</td>\n",
              "    </tr>\n",
              "    <tr>\n",
              "      <th>16460</th>\n",
              "      <td>16898</td>\n",
              "      <td>Halloween, Instagram Style - The New York Times</td>\n",
              "      <td>Bonnie Wertheim</td>\n",
              "      <td>Last night Eleven from “Stranger Things” and t...</td>\n",
              "    </tr>\n",
              "    <tr>\n",
              "      <th>614</th>\n",
              "      <td>628</td>\n",
              "      <td>There’s Only One Trump Administration Position...</td>\n",
              "      <td>John Carney</td>\n",
              "      <td>While support for the Trump administration’s p...</td>\n",
              "    </tr>\n",
              "  </tbody>\n",
              "</table>\n",
              "</div>\n",
              "      <button class=\"colab-df-convert\" onclick=\"convertToInteractive('df-e5b8a121-24fe-445d-98f5-4a05b16ee13f')\"\n",
              "              title=\"Convert this dataframe to an interactive table.\"\n",
              "              style=\"display:none;\">\n",
              "        \n",
              "  <svg xmlns=\"http://www.w3.org/2000/svg\" height=\"24px\"viewBox=\"0 0 24 24\"\n",
              "       width=\"24px\">\n",
              "    <path d=\"M0 0h24v24H0V0z\" fill=\"none\"/>\n",
              "    <path d=\"M18.56 5.44l.94 2.06.94-2.06 2.06-.94-2.06-.94-.94-2.06-.94 2.06-2.06.94zm-11 1L8.5 8.5l.94-2.06 2.06-.94-2.06-.94L8.5 2.5l-.94 2.06-2.06.94zm10 10l.94 2.06.94-2.06 2.06-.94-2.06-.94-.94-2.06-.94 2.06-2.06.94z\"/><path d=\"M17.41 7.96l-1.37-1.37c-.4-.4-.92-.59-1.43-.59-.52 0-1.04.2-1.43.59L10.3 9.45l-7.72 7.72c-.78.78-.78 2.05 0 2.83L4 21.41c.39.39.9.59 1.41.59.51 0 1.02-.2 1.41-.59l7.78-7.78 2.81-2.81c.8-.78.8-2.07 0-2.86zM5.41 20L4 18.59l7.72-7.72 1.47 1.35L5.41 20z\"/>\n",
              "  </svg>\n",
              "      </button>\n",
              "      \n",
              "  <style>\n",
              "    .colab-df-container {\n",
              "      display:flex;\n",
              "      flex-wrap:wrap;\n",
              "      gap: 12px;\n",
              "    }\n",
              "\n",
              "    .colab-df-convert {\n",
              "      background-color: #E8F0FE;\n",
              "      border: none;\n",
              "      border-radius: 50%;\n",
              "      cursor: pointer;\n",
              "      display: none;\n",
              "      fill: #1967D2;\n",
              "      height: 32px;\n",
              "      padding: 0 0 0 0;\n",
              "      width: 32px;\n",
              "    }\n",
              "\n",
              "    .colab-df-convert:hover {\n",
              "      background-color: #E2EBFA;\n",
              "      box-shadow: 0px 1px 2px rgba(60, 64, 67, 0.3), 0px 1px 3px 1px rgba(60, 64, 67, 0.15);\n",
              "      fill: #174EA6;\n",
              "    }\n",
              "\n",
              "    [theme=dark] .colab-df-convert {\n",
              "      background-color: #3B4455;\n",
              "      fill: #D2E3FC;\n",
              "    }\n",
              "\n",
              "    [theme=dark] .colab-df-convert:hover {\n",
              "      background-color: #434B5C;\n",
              "      box-shadow: 0px 1px 3px 1px rgba(0, 0, 0, 0.15);\n",
              "      filter: drop-shadow(0px 1px 2px rgba(0, 0, 0, 0.3));\n",
              "      fill: #FFFFFF;\n",
              "    }\n",
              "  </style>\n",
              "\n",
              "      <script>\n",
              "        const buttonEl =\n",
              "          document.querySelector('#df-e5b8a121-24fe-445d-98f5-4a05b16ee13f button.colab-df-convert');\n",
              "        buttonEl.style.display =\n",
              "          google.colab.kernel.accessAllowed ? 'block' : 'none';\n",
              "\n",
              "        async function convertToInteractive(key) {\n",
              "          const element = document.querySelector('#df-e5b8a121-24fe-445d-98f5-4a05b16ee13f');\n",
              "          const dataTable =\n",
              "            await google.colab.kernel.invokeFunction('convertToInteractive',\n",
              "                                                     [key], {});\n",
              "          if (!dataTable) return;\n",
              "\n",
              "          const docLinkHtml = 'Like what you see? Visit the ' +\n",
              "            '<a target=\"_blank\" href=https://colab.research.google.com/notebooks/data_table.ipynb>data table notebook</a>'\n",
              "            + ' to learn more about interactive tables.';\n",
              "          element.innerHTML = '';\n",
              "          dataTable['output_type'] = 'display_data';\n",
              "          await google.colab.output.renderOutput(dataTable, element);\n",
              "          const docLink = document.createElement('div');\n",
              "          docLink.innerHTML = docLinkHtml;\n",
              "          element.appendChild(docLink);\n",
              "        }\n",
              "      </script>\n",
              "    </div>\n",
              "  </div>\n",
              "  "
            ]
          },
          "metadata": {},
          "execution_count": 7
        }
      ]
    },
    {
      "cell_type": "markdown",
      "source": [
        "# **Correlation between Clickbait and Label columns**"
      ],
      "metadata": {
        "id": "YGyypwfKTKVC"
      }
    },
    {
      "cell_type": "code",
      "source": [
        "contigency= pd.crosstab(df['label'], df['clickbait']) \n",
        "print(contigency)"
      ],
      "metadata": {
        "colab": {
          "base_uri": "https://localhost:8080/"
        },
        "id": "n-pQImwWKBUo",
        "outputId": "15ca3f1c-8c7a-4521-fb37-f3e4ca716bf9"
      },
      "execution_count": null,
      "outputs": [
        {
          "output_type": "stream",
          "name": "stdout",
          "text": [
            "clickbait     0     1\n",
            "label                \n",
            "0          7745  2616\n",
            "1          5607  2317\n"
          ]
        }
      ]
    },
    {
      "cell_type": "code",
      "source": [
        "contigency_pct = pd.crosstab(df['label'], df['clickbait'], normalize='index')\n",
        "contigency_pct"
      ],
      "metadata": {
        "colab": {
          "base_uri": "https://localhost:8080/",
          "height": 143
        },
        "id": "oUj2y5XxTTyK",
        "outputId": "86fe9a5d-bd9d-4521-d6df-5c4441794227"
      },
      "execution_count": null,
      "outputs": [
        {
          "output_type": "execute_result",
          "data": {
            "text/plain": [
              "clickbait         0         1\n",
              "label                        \n",
              "0          0.747515  0.252485\n",
              "1          0.707597  0.292403"
            ],
            "text/html": [
              "\n",
              "  <div id=\"df-8d219701-8d18-498d-8971-665506b20360\">\n",
              "    <div class=\"colab-df-container\">\n",
              "      <div>\n",
              "<style scoped>\n",
              "    .dataframe tbody tr th:only-of-type {\n",
              "        vertical-align: middle;\n",
              "    }\n",
              "\n",
              "    .dataframe tbody tr th {\n",
              "        vertical-align: top;\n",
              "    }\n",
              "\n",
              "    .dataframe thead th {\n",
              "        text-align: right;\n",
              "    }\n",
              "</style>\n",
              "<table border=\"1\" class=\"dataframe\">\n",
              "  <thead>\n",
              "    <tr style=\"text-align: right;\">\n",
              "      <th>clickbait</th>\n",
              "      <th>0</th>\n",
              "      <th>1</th>\n",
              "    </tr>\n",
              "    <tr>\n",
              "      <th>label</th>\n",
              "      <th></th>\n",
              "      <th></th>\n",
              "    </tr>\n",
              "  </thead>\n",
              "  <tbody>\n",
              "    <tr>\n",
              "      <th>0</th>\n",
              "      <td>0.747515</td>\n",
              "      <td>0.252485</td>\n",
              "    </tr>\n",
              "    <tr>\n",
              "      <th>1</th>\n",
              "      <td>0.707597</td>\n",
              "      <td>0.292403</td>\n",
              "    </tr>\n",
              "  </tbody>\n",
              "</table>\n",
              "</div>\n",
              "      <button class=\"colab-df-convert\" onclick=\"convertToInteractive('df-8d219701-8d18-498d-8971-665506b20360')\"\n",
              "              title=\"Convert this dataframe to an interactive table.\"\n",
              "              style=\"display:none;\">\n",
              "        \n",
              "  <svg xmlns=\"http://www.w3.org/2000/svg\" height=\"24px\"viewBox=\"0 0 24 24\"\n",
              "       width=\"24px\">\n",
              "    <path d=\"M0 0h24v24H0V0z\" fill=\"none\"/>\n",
              "    <path d=\"M18.56 5.44l.94 2.06.94-2.06 2.06-.94-2.06-.94-.94-2.06-.94 2.06-2.06.94zm-11 1L8.5 8.5l.94-2.06 2.06-.94-2.06-.94L8.5 2.5l-.94 2.06-2.06.94zm10 10l.94 2.06.94-2.06 2.06-.94-2.06-.94-.94-2.06-.94 2.06-2.06.94z\"/><path d=\"M17.41 7.96l-1.37-1.37c-.4-.4-.92-.59-1.43-.59-.52 0-1.04.2-1.43.59L10.3 9.45l-7.72 7.72c-.78.78-.78 2.05 0 2.83L4 21.41c.39.39.9.59 1.41.59.51 0 1.02-.2 1.41-.59l7.78-7.78 2.81-2.81c.8-.78.8-2.07 0-2.86zM5.41 20L4 18.59l7.72-7.72 1.47 1.35L5.41 20z\"/>\n",
              "  </svg>\n",
              "      </button>\n",
              "      \n",
              "  <style>\n",
              "    .colab-df-container {\n",
              "      display:flex;\n",
              "      flex-wrap:wrap;\n",
              "      gap: 12px;\n",
              "    }\n",
              "\n",
              "    .colab-df-convert {\n",
              "      background-color: #E8F0FE;\n",
              "      border: none;\n",
              "      border-radius: 50%;\n",
              "      cursor: pointer;\n",
              "      display: none;\n",
              "      fill: #1967D2;\n",
              "      height: 32px;\n",
              "      padding: 0 0 0 0;\n",
              "      width: 32px;\n",
              "    }\n",
              "\n",
              "    .colab-df-convert:hover {\n",
              "      background-color: #E2EBFA;\n",
              "      box-shadow: 0px 1px 2px rgba(60, 64, 67, 0.3), 0px 1px 3px 1px rgba(60, 64, 67, 0.15);\n",
              "      fill: #174EA6;\n",
              "    }\n",
              "\n",
              "    [theme=dark] .colab-df-convert {\n",
              "      background-color: #3B4455;\n",
              "      fill: #D2E3FC;\n",
              "    }\n",
              "\n",
              "    [theme=dark] .colab-df-convert:hover {\n",
              "      background-color: #434B5C;\n",
              "      box-shadow: 0px 1px 3px 1px rgba(0, 0, 0, 0.15);\n",
              "      filter: drop-shadow(0px 1px 2px rgba(0, 0, 0, 0.3));\n",
              "      fill: #FFFFFF;\n",
              "    }\n",
              "  </style>\n",
              "\n",
              "      <script>\n",
              "        const buttonEl =\n",
              "          document.querySelector('#df-8d219701-8d18-498d-8971-665506b20360 button.colab-df-convert');\n",
              "        buttonEl.style.display =\n",
              "          google.colab.kernel.accessAllowed ? 'block' : 'none';\n",
              "\n",
              "        async function convertToInteractive(key) {\n",
              "          const element = document.querySelector('#df-8d219701-8d18-498d-8971-665506b20360');\n",
              "          const dataTable =\n",
              "            await google.colab.kernel.invokeFunction('convertToInteractive',\n",
              "                                                     [key], {});\n",
              "          if (!dataTable) return;\n",
              "\n",
              "          const docLinkHtml = 'Like what you see? Visit the ' +\n",
              "            '<a target=\"_blank\" href=https://colab.research.google.com/notebooks/data_table.ipynb>data table notebook</a>'\n",
              "            + ' to learn more about interactive tables.';\n",
              "          element.innerHTML = '';\n",
              "          dataTable['output_type'] = 'display_data';\n",
              "          await google.colab.output.renderOutput(dataTable, element);\n",
              "          const docLink = document.createElement('div');\n",
              "          docLink.innerHTML = docLinkHtml;\n",
              "          element.appendChild(docLink);\n",
              "        }\n",
              "      </script>\n",
              "    </div>\n",
              "  </div>\n",
              "  "
            ]
          },
          "metadata": {},
          "execution_count": 5
        }
      ]
    },
    {
      "cell_type": "code",
      "source": [
        "# Chi-square test of independence. \n",
        "from scipy.stats import chi2_contingency\n",
        "chi_sq, p_value, dof, expected = chi2_contingency(contigency) \n",
        "# Print the p-value\n",
        "print(format(p_value, '.16f'))"
      ],
      "metadata": {
        "colab": {
          "base_uri": "https://localhost:8080/"
        },
        "id": "WFkn7_y9Tymb",
        "outputId": "2fe0c0e9-258b-4ed7-f795-247af51c94e4"
      },
      "execution_count": null,
      "outputs": [
        {
          "output_type": "stream",
          "name": "stdout",
          "text": [
            "0.0000000018603149\n"
          ]
        }
      ]
    },
    {
      "cell_type": "code",
      "source": [
        "#cramer's v score of correlation calculation\n",
        "n = contigency.sum().sum()\n",
        "dof = min(contigency.shape)-1\n",
        "# calculating cramer's v\n",
        "v = np.sqrt(chi_sq/(n*dof))\n",
        "# printing results\n",
        "print(f'V = {v}')"
      ],
      "metadata": {
        "id": "cKgjPlBoWw1p",
        "colab": {
          "base_uri": "https://localhost:8080/"
        },
        "outputId": "05663ff9-0b53-4372-82ed-045b937fc39b"
      },
      "execution_count": null,
      "outputs": [
        {
          "output_type": "stream",
          "name": "stdout",
          "text": [
            "V = 0.04444213788240863\n"
          ]
        }
      ]
    },
    {
      "cell_type": "markdown",
      "source": [
        "# Fakenews detection"
      ],
      "metadata": {
        "id": "KSGk32ZUXRAa"
      }
    },
    {
      "cell_type": "code",
      "source": [
        "y_train_fakenews = y_train['label']\n",
        "y_test_fakenews = y_test['label']"
      ],
      "metadata": {
        "id": "iS-ehusd6EMo"
      },
      "execution_count": null,
      "outputs": []
    },
    {
      "cell_type": "code",
      "source": [
        "voc_size = 9500\n",
        "message_train = X_train.copy()\n",
        "message_test = X_test.copy()\n",
        "message_train.reset_index(inplace = True)\n",
        "message_test.reset_index(inplace = True)"
      ],
      "metadata": {
        "id": "akeIJn0baKSn"
      },
      "execution_count": null,
      "outputs": []
    },
    {
      "cell_type": "code",
      "source": [
        "corpus_train = []\n",
        "for i in range(0, len(message_train)):\n",
        "   \n",
        "    temp = re.sub('[^a-zA-Z]', ' ', message_train['text'][i])\n",
        "    temp = temp.lower()\n",
        "    temp = temp.split()\n",
        "    \n",
        "    temp = [ps.stem(word) for word in temp if not word in stopwords.words('english')]\n",
        "    temp = ' '.join(temp)\n",
        "    corpus_train.append(temp)"
      ],
      "metadata": {
        "id": "Kz5GRHuGafkj"
      },
      "execution_count": null,
      "outputs": []
    },
    {
      "cell_type": "code",
      "source": [
        "corpus_test = []\n",
        "for i in range(0, len(message_test)):\n",
        "   \n",
        "    temp = re.sub('[^a-zA-Z]', ' ', message_test['text'][i])\n",
        "    temp = temp.lower()\n",
        "    temp = temp.split()\n",
        "    \n",
        "    temp = [ps.stem(word) for word in temp if not word in stopwords.words('english')]\n",
        "    temp = ' '.join(temp)\n",
        "    corpus_test.append(temp)"
      ],
      "metadata": {
        "id": "lLg-anpp8Y3Q"
      },
      "execution_count": null,
      "outputs": []
    },
    {
      "cell_type": "code",
      "source": [
        "word_dict={}\n",
        "for i in range(len(corpus_train)):\n",
        "  temp = set(corpus_train[i].split(\" \"))\n",
        "  for j in temp:\n",
        "    if j in word_dict:\n",
        "      word_dict[j] += 1\n",
        "    else:\n",
        "      word_dict.update({j: 1})\n",
        "\n",
        "len(word_dict)"
      ],
      "metadata": {
        "colab": {
          "base_uri": "https://localhost:8080/"
        },
        "id": "z-_DK7e6D0KJ",
        "outputId": "7c02412a-826e-4225-a4f6-b752623087f0"
      },
      "execution_count": null,
      "outputs": [
        {
          "output_type": "execute_result",
          "data": {
            "text/plain": [
              "93034"
            ]
          },
          "metadata": {},
          "execution_count": 12
        }
      ]
    },
    {
      "cell_type": "code",
      "source": [
        "voc_size = 5000\n",
        "from tensorflow.keras.layers import Bidirectional\n",
        "onehot_repr_train = [one_hot(words, voc_size) for words in corpus_train]\n",
        "onehot_repr_test = [one_hot(words, voc_size) for words in corpus_test]\n",
        "sent_length = 20\n",
        "embeded_docs_train = pad_sequences(onehot_repr_train, padding = \"pre\", maxlen = sent_length)\n",
        "embeded_docs_test = pad_sequences(onehot_repr_test, padding = \"pre\", maxlen = sent_length)"
      ],
      "metadata": {
        "id": "DqFmhLEwkB6-"
      },
      "execution_count": null,
      "outputs": []
    },
    {
      "cell_type": "code",
      "source": [
        "#Building a model \n",
        "dims = 40\n",
        "model = Sequential()\n",
        "model.add(Embedding(voc_size, dims, input_length = sent_length))\n",
        "model.add(Bidirectional(LSTM(100)))\n",
        "model.add(Dense(1, activation = \"sigmoid\"))\n",
        "model.compile(loss = 'binary_crossentropy', optimizer = 'adam', metrics = ['accuracy'])\n",
        "print(model.summary())"
      ],
      "metadata": {
        "colab": {
          "base_uri": "https://localhost:8080/"
        },
        "id": "L8TeyppPkQL5",
        "outputId": "763a3c28-9f88-4d27-8027-a378ecfafc0d"
      },
      "execution_count": null,
      "outputs": [
        {
          "output_type": "stream",
          "name": "stdout",
          "text": [
            "Model: \"sequential\"\n",
            "_________________________________________________________________\n",
            " Layer (type)                Output Shape              Param #   \n",
            "=================================================================\n",
            " embedding (Embedding)       (None, 20, 40)            200000    \n",
            "                                                                 \n",
            " bidirectional (Bidirectiona  (None, 200)              112800    \n",
            " l)                                                              \n",
            "                                                                 \n",
            " dense (Dense)               (None, 1)                 201       \n",
            "                                                                 \n",
            "=================================================================\n",
            "Total params: 313,001\n",
            "Trainable params: 313,001\n",
            "Non-trainable params: 0\n",
            "_________________________________________________________________\n",
            "None\n"
          ]
        }
      ]
    },
    {
      "cell_type": "code",
      "source": [
        "X_final_train = np.array(embeded_docs_train)\n",
        "X_final_test = np.array(embeded_docs_test)\n",
        "y_final_train = np.array(y_train_fakenews)\n",
        "y_final_test = np.array(y_test_fakenews)"
      ],
      "metadata": {
        "id": "0Geq3eNYkSe7"
      },
      "execution_count": null,
      "outputs": []
    },
    {
      "cell_type": "code",
      "source": [
        "#Training a model\n",
        "model.fit(X_final_train, y_final_train, validation_data = (X_final_test, y_final_test), epochs = 25, batch_size = 64)"
      ],
      "metadata": {
        "colab": {
          "base_uri": "https://localhost:8080/"
        },
        "id": "tkkmWp54kpuV",
        "outputId": "a2c8e58f-fb6c-444d-ccb2-975ce58a0b95"
      },
      "execution_count": null,
      "outputs": [
        {
          "output_type": "stream",
          "name": "stdout",
          "text": [
            "Epoch 1/25\n",
            "229/229 [==============================] - 5s 23ms/step - loss: 0.0046 - accuracy: 0.9988 - val_loss: 1.5461 - val_accuracy: 0.8313\n",
            "Epoch 2/25\n",
            "229/229 [==============================] - 5s 21ms/step - loss: 0.0022 - accuracy: 0.9995 - val_loss: 1.5942 - val_accuracy: 0.8335\n",
            "Epoch 3/25\n",
            "229/229 [==============================] - 4s 18ms/step - loss: 8.7240e-04 - accuracy: 0.9999 - val_loss: 1.6255 - val_accuracy: 0.8302\n",
            "Epoch 4/25\n",
            "229/229 [==============================] - 4s 17ms/step - loss: 6.8267e-04 - accuracy: 0.9999 - val_loss: 1.6729 - val_accuracy: 0.8318\n",
            "Epoch 5/25\n",
            "229/229 [==============================] - 4s 19ms/step - loss: 6.1980e-04 - accuracy: 0.9999 - val_loss: 1.6923 - val_accuracy: 0.8326\n",
            "Epoch 6/25\n",
            "229/229 [==============================] - 4s 17ms/step - loss: 6.5278e-04 - accuracy: 0.9999 - val_loss: 1.7140 - val_accuracy: 0.8321\n",
            "Epoch 7/25\n",
            "229/229 [==============================] - 4s 17ms/step - loss: 6.8710e-04 - accuracy: 0.9999 - val_loss: 1.7344 - val_accuracy: 0.8321\n",
            "Epoch 8/25\n",
            "229/229 [==============================] - 4s 19ms/step - loss: 5.7270e-04 - accuracy: 0.9999 - val_loss: 1.7598 - val_accuracy: 0.8326\n",
            "Epoch 9/25\n",
            "229/229 [==============================] - 4s 17ms/step - loss: 5.5773e-04 - accuracy: 0.9999 - val_loss: 1.7531 - val_accuracy: 0.8343\n",
            "Epoch 10/25\n",
            "229/229 [==============================] - 4s 17ms/step - loss: 5.1110e-04 - accuracy: 0.9999 - val_loss: 1.7843 - val_accuracy: 0.8324\n",
            "Epoch 11/25\n",
            "229/229 [==============================] - 4s 19ms/step - loss: 5.3169e-04 - accuracy: 0.9999 - val_loss: 1.8044 - val_accuracy: 0.8340\n",
            "Epoch 12/25\n",
            "229/229 [==============================] - 4s 17ms/step - loss: 5.6266e-04 - accuracy: 0.9999 - val_loss: 1.8281 - val_accuracy: 0.8337\n",
            "Epoch 13/25\n",
            "229/229 [==============================] - 4s 19ms/step - loss: 5.4686e-04 - accuracy: 0.9999 - val_loss: 1.8465 - val_accuracy: 0.8340\n",
            "Epoch 14/25\n",
            "229/229 [==============================] - 4s 19ms/step - loss: 4.8801e-04 - accuracy: 0.9999 - val_loss: 1.8691 - val_accuracy: 0.8316\n",
            "Epoch 15/25\n",
            "229/229 [==============================] - 4s 19ms/step - loss: 4.7295e-04 - accuracy: 0.9999 - val_loss: 1.8835 - val_accuracy: 0.8316\n",
            "Epoch 16/25\n",
            "229/229 [==============================] - 4s 17ms/step - loss: 5.0966e-04 - accuracy: 0.9999 - val_loss: 1.8930 - val_accuracy: 0.8340\n",
            "Epoch 17/25\n",
            "229/229 [==============================] - 4s 19ms/step - loss: 5.6107e-04 - accuracy: 0.9999 - val_loss: 1.9012 - val_accuracy: 0.8340\n",
            "Epoch 18/25\n",
            "229/229 [==============================] - 4s 17ms/step - loss: 5.7168e-04 - accuracy: 0.9999 - val_loss: 1.9007 - val_accuracy: 0.8318\n",
            "Epoch 19/25\n",
            "229/229 [==============================] - 4s 18ms/step - loss: 4.4586e-04 - accuracy: 0.9999 - val_loss: 1.9208 - val_accuracy: 0.8307\n",
            "Epoch 20/25\n",
            "229/229 [==============================] - 4s 18ms/step - loss: 4.2526e-04 - accuracy: 0.9999 - val_loss: 1.9439 - val_accuracy: 0.8332\n",
            "Epoch 21/25\n",
            "229/229 [==============================] - 4s 18ms/step - loss: 4.9774e-04 - accuracy: 0.9999 - val_loss: 1.9613 - val_accuracy: 0.8326\n",
            "Epoch 22/25\n",
            "229/229 [==============================] - 4s 19ms/step - loss: 4.9815e-04 - accuracy: 0.9999 - val_loss: 1.9727 - val_accuracy: 0.8318\n",
            "Epoch 23/25\n",
            "229/229 [==============================] - 4s 18ms/step - loss: 4.7492e-04 - accuracy: 0.9999 - val_loss: 1.9931 - val_accuracy: 0.8324\n",
            "Epoch 24/25\n",
            "229/229 [==============================] - 4s 19ms/step - loss: 4.5790e-04 - accuracy: 0.9999 - val_loss: 2.0179 - val_accuracy: 0.8318\n",
            "Epoch 25/25\n",
            "229/229 [==============================] - 4s 17ms/step - loss: 4.8540e-04 - accuracy: 0.9999 - val_loss: 2.0514 - val_accuracy: 0.8318\n"
          ]
        },
        {
          "output_type": "execute_result",
          "data": {
            "text/plain": [
              "<keras.callbacks.History at 0x7efd60174c90>"
            ]
          },
          "metadata": {},
          "execution_count": 19
        }
      ]
    },
    {
      "cell_type": "code",
      "source": [
        "Y_FakeNews_pred = model.predict(X_final_test)\n",
        "Y_FakeNews_pred"
      ],
      "metadata": {
        "colab": {
          "base_uri": "https://localhost:8080/"
        },
        "id": "5OMNkOqBkz5q",
        "outputId": "febd710c-4f99-4f80-8309-ad2e83cb7101"
      },
      "execution_count": null,
      "outputs": [
        {
          "output_type": "execute_result",
          "data": {
            "text/plain": [
              "array([[1.0000000e+00],\n",
              "       [3.3599707e-13],\n",
              "       [9.2166502e-16],\n",
              "       ...,\n",
              "       [1.0000000e+00],\n",
              "       [4.0662843e-10],\n",
              "       [1.0000000e+00]], dtype=float32)"
            ]
          },
          "metadata": {},
          "execution_count": 20
        }
      ]
    },
    {
      "cell_type": "code",
      "source": [
        "from sklearn.metrics import confusion_matrix\n",
        "from sklearn.metrics import accuracy_score\n",
        "Y_FakeNews_pred = Y_FakeNews_pred.flatten()\n",
        "NY_FakeNews_pred = np.where(Y_FakeNews_pred > 0.5, 1, 0)\n",
        "cf_matrix=confusion_matrix(y_final_test, NY_FakeNews_pred)\n",
        "print(accuracy_score(y_final_test, NY_FakeNews_pred))\n",
        "print(cf_matrix)"
      ],
      "metadata": {
        "colab": {
          "base_uri": "https://localhost:8080/"
        },
        "id": "TEuUu2wnlvMD",
        "outputId": "5d0717b9-77bd-4dda-9544-0276d3c91748"
      },
      "execution_count": null,
      "outputs": [
        {
          "output_type": "stream",
          "name": "stdout",
          "text": [
            "0.8318293683347006\n",
            "[[1726  356]\n",
            " [ 259 1316]]\n"
          ]
        }
      ]
    },
    {
      "cell_type": "code",
      "source": [
        "import seaborn as sns\n",
        "ax = sns.heatmap(cf_matrix/np.sum(cf_matrix), annot=True,fmt='.2%', cmap='Blues')\n",
        "ax.set_title('Confusion Matrix with labels and percentage\\n\\n');\n",
        "ax.set_xlabel('\\nPredicted Values')\n",
        "ax.set_ylabel('Actual Values ');\n",
        "ax.xaxis.set_ticklabels(['False','True'])\n",
        "ax.yaxis.set_ticklabels(['False','True'])\n",
        "plt.show()"
      ],
      "metadata": {
        "colab": {
          "base_uri": "https://localhost:8080/",
          "height": 337
        },
        "id": "G6bhtKt3o8vj",
        "outputId": "8f07aa86-9aac-4305-dc6a-1eca68b0e8a0"
      },
      "execution_count": null,
      "outputs": [
        {
          "output_type": "display_data",
          "data": {
            "text/plain": [
              "<Figure size 432x288 with 2 Axes>"
            ],
            "image/png": "[encoded data removed]"
          },
          "metadata": {
            "needs_background": "light"
          }
        }
      ]
    },
    {
      "cell_type": "markdown",
      "source": [
        "# Clickbait Detection"
      ],
      "metadata": {
        "id": "Sif59g4jsDYk"
      }
    },
    {
      "cell_type": "code",
      "source": [
        "x_train_clickbait=X_train.title\n",
        "x_test_clickbait=X_test.title\n",
        "y_train_clickbait=y_train.clickbait\n",
        "y_test_clickbait=y_test.clickbait"
      ],
      "metadata": {
        "id": "AgPnoWfImX2w"
      },
      "execution_count": null,
      "outputs": []
    },
    {
      "cell_type": "markdown",
      "source": [
        "# Preprossing"
      ],
      "metadata": {
        "id": "FIeSXT0-nkCL"
      }
    },
    {
      "cell_type": "code",
      "source": [
        "def clickbait_tokenization(text):\n",
        "    temp_lst=text.split()\n",
        "    return temp_lst\n",
        "x_train_clickbait=x_train_clickbait.apply(clickbait_tokenization)\n",
        "x_test_clickbait=x_test_clickbait.apply(clickbait_tokenization)"
      ],
      "metadata": {
        "id": "50pBb7KNndtz"
      },
      "execution_count": null,
      "outputs": []
    },
    {
      "cell_type": "code",
      "source": [
        "def clickbait_lowercasing(temp_lst):\n",
        "    new_lst=[]\n",
        "    for i in temp_lst:\n",
        "        i=i.lower()\n",
        "        new_lst.append(i)\n",
        "    return new_lst\n",
        "x_train_clickbait=x_train_clickbait.apply(clickbait_lowercasing)\n",
        "x_test_clickbait=x_test_clickbait.apply(clickbait_lowercasing)  "
      ],
      "metadata": {
        "id": "gOJVF83cnp8c"
      },
      "execution_count": null,
      "outputs": []
    },
    {
      "cell_type": "code",
      "source": [
        "def clickbait_remove_punctuations(temp_lst):\n",
        "    new_lst=[]\n",
        "    for i in temp_lst:\n",
        "        for j in s.punctuation:\n",
        "            i=i.replace(j,'')\n",
        "        new_lst.append(i)\n",
        "    return new_lst\n",
        "x_train_clickbait=x_train_clickbait.apply(clickbait_remove_punctuations)\n",
        "x_test_clickbait=x_test_clickbait.apply(clickbait_remove_punctuations) "
      ],
      "metadata": {
        "id": "AJA7-QthoOMb"
      },
      "execution_count": null,
      "outputs": []
    },
    {
      "cell_type": "code",
      "source": [
        "def clickbait_remove_numbers(temp_lst):\n",
        "    nodig_lst=[]\n",
        "    new_lst=[]\n",
        "    for i in temp_lst:\n",
        "        for j in s.digits:    \n",
        "            i=i.replace(j,'')\n",
        "        nodig_lst.append(i)\n",
        "    for i in nodig_lst:\n",
        "        if i!='':\n",
        "            new_lst.append(i)\n",
        "    return new_lst\n",
        "x_train_clickbait=x_train_clickbait.apply(clickbait_remove_numbers)\n",
        "x_test_clickbait=x_test_clickbait.apply(clickbait_remove_numbers)"
      ],
      "metadata": {
        "id": "DTr5Hu2moWyQ"
      },
      "execution_count": null,
      "outputs": []
    },
    {
      "cell_type": "code",
      "source": [
        "print(\"All stopwords of English language \")\n",
        "\", \".join(stopwords.words('english'))"
      ],
      "metadata": {
        "colab": {
          "base_uri": "https://localhost:8080/"
        },
        "id": "u3bYCI5sods1",
        "outputId": "2e26c168-1ae6-4754-e951-e59f15327a8a"
      },
      "execution_count": null,
      "outputs": [
        {
          "output_type": "stream",
          "name": "stdout",
          "text": [
            "All stopwords of English language \n"
          ]
        },
        {
          "output_type": "execute_result",
          "data": {
            "text/plain": [
              "\"i, me, my, myself, we, our, ours, ourselves, you, you're, you've, you'll, you'd, your, yours, yourself, yourselves, he, him, his, himself, she, she's, her, hers, herself, it, it's, its, itself, they, them, their, theirs, themselves, what, which, who, whom, this, that, that'll, these, those, am, is, are, was, were, be, been, being, have, has, had, having, do, does, did, doing, a, an, the, and, but, if, or, because, as, until, while, of, at, by, for, with, about, against, between, into, through, during, before, after, above, below, to, from, up, down, in, out, on, off, over, under, again, further, then, once, here, there, when, where, why, how, all, any, both, each, few, more, most, other, some, such, no, nor, not, only, own, same, so, than, too, very, s, t, can, will, just, don, don't, should, should've, now, d, ll, m, o, re, ve, y, ain, aren, aren't, couldn, couldn't, didn, didn't, doesn, doesn't, hadn, hadn't, hasn, hasn't, haven, haven't, isn, isn't, ma, mightn, mightn't, mustn, mustn't, needn, needn't, shan, shan't, shouldn, shouldn't, wasn, wasn't, weren, weren't, won, won't, wouldn, wouldn't\""
            ],
            "application/vnd.google.colaboratory.intrinsic+json": {
              "type": "string"
            }
          },
          "metadata": {},
          "execution_count": 28
        }
      ]
    },
    {
      "cell_type": "code",
      "source": [
        "def clickbait_remove_stopwords(temp_lst):\n",
        "    stop=stopwords.words('english')\n",
        "    new_lst=[]\n",
        "    for i in temp_lst:\n",
        "        if i not in stop:\n",
        "            new_lst.append(i)\n",
        "    return new_lst\n",
        "\n",
        "x_train_clickbait=x_train_clickbait.apply(clickbait_remove_stopwords)\n",
        "x_test_clickbait=x_test_clickbait.apply(clickbait_remove_stopwords)  "
      ],
      "metadata": {
        "id": "8VL8fRr7okF9"
      },
      "execution_count": null,
      "outputs": []
    },
    {
      "cell_type": "code",
      "source": [
        "def clickbait_remove_spaces(temp_lst):\n",
        "    new_lst=[]\n",
        "    for i in temp_lst:\n",
        "        i=i.strip()\n",
        "        new_lst.append(i)\n",
        "    return new_lst\n",
        "x_train_clickbait=x_train_clickbait.apply(clickbait_remove_spaces)\n",
        "x_test_clickbait=x_test_clickbait.apply(clickbait_remove_spaces)"
      ],
      "metadata": {
        "id": "TcUl5YfaonLv"
      },
      "execution_count": null,
      "outputs": []
    },
    {
      "cell_type": "markdown",
      "source": [
        "# Lemmetization"
      ],
      "metadata": {
        "id": "Y5Xoh_gqotJc"
      }
    },
    {
      "cell_type": "code",
      "source": [
        "lemmatizer=nltk.stem.WordNetLemmatizer()\n",
        "def clickbait_lemmatzation(temp_lst):\n",
        "    new_lst=[]\n",
        "    for i in temp_lst:\n",
        "        i=lemmatizer.lemmatize(i)\n",
        "        new_lst.append(i)\n",
        "    return new_lst\n",
        "x_train_clickbait=x_train_clickbait.apply(clickbait_lemmatzation)\n",
        "x_test_clickbait=x_test_clickbait.apply(clickbait_lemmatzation)"
      ],
      "metadata": {
        "id": "Fq2TvkmIoxEh"
      },
      "execution_count": null,
      "outputs": []
    },
    {
      "cell_type": "code",
      "source": [
        "x_train_clickbait=x_train_clickbait.apply(lambda x: ''.join(i+' ' for i in x))\n",
        "x_test_clickbait=x_test_clickbait.apply(lambda x: ''.join(i+' ' for i in x))"
      ],
      "metadata": {
        "id": "g62l3vxBpD46"
      },
      "execution_count": null,
      "outputs": []
    },
    {
      "cell_type": "code",
      "source": [
        "freq_dist={}\n",
        "for i in x_train_clickbait:\n",
        "    x=i.split()\n",
        "    for j in x:\n",
        "        if j not in freq_dist.keys():\n",
        "            freq_dist[j]=1\n",
        "        else:\n",
        "            freq_dist[j]+=1\n",
        "#freq_dist\n",
        "max_v=0\n",
        "for i in freq_dist.values():\n",
        "  if(i > max_v):\n",
        "    max_v = i\n",
        "\n",
        "ct=0\n",
        "for i in freq_dist.values():\n",
        "  if(i > 2):\n",
        "    ct+=1\n",
        "ct"
      ],
      "metadata": {
        "colab": {
          "base_uri": "https://localhost:8080/"
        },
        "id": "Ps0GrMZ7pHtM",
        "outputId": "4236754b-c654-4409-d66a-7b782af38168"
      },
      "execution_count": null,
      "outputs": [
        {
          "output_type": "execute_result",
          "data": {
            "text/plain": [
              "6105"
            ]
          },
          "metadata": {},
          "execution_count": 33
        }
      ]
    },
    {
      "cell_type": "markdown",
      "source": [
        "# TF-IDF (Term frequency-Inverse Data Frequency)\n"
      ],
      "metadata": {
        "id": "h0RJCoFfpWte"
      }
    },
    {
      "cell_type": "code",
      "source": [
        "#analyzer=\"char_wb\", ngram_range=(2,4)\n",
        "from sklearn.feature_extraction.text import TfidfVectorizer\n",
        "tfidf=TfidfVectorizer(max_features=6105)\n",
        "clickbait_train_1=tfidf.fit_transform(x_train_clickbait)\n",
        "clickbait_test_1=tfidf.transform(x_test_clickbait)"
      ],
      "metadata": {
        "id": "_sIlFTXfpQNu"
      },
      "execution_count": null,
      "outputs": []
    },
    {
      "cell_type": "code",
      "source": [
        "clickbait_train_arr=clickbait_train_1.toarray()\n",
        "clickbait_test_arr=clickbait_test_1.toarray()"
      ],
      "metadata": {
        "id": "DMBG40nFpuYc"
      },
      "execution_count": null,
      "outputs": []
    },
    {
      "cell_type": "markdown",
      "source": [
        "# Naive bayes Model"
      ],
      "metadata": {
        "id": "7V21T7LDqNqZ"
      }
    },
    {
      "cell_type": "code",
      "source": [
        "NB_MN=MultinomialNB()"
      ],
      "metadata": {
        "id": "pnoPNUP6pz4_"
      },
      "execution_count": null,
      "outputs": []
    },
    {
      "cell_type": "code",
      "source": [
        "NB_MN.fit(clickbait_train_arr,y_train_clickbait)\n",
        "clickbait_pred=NB_MN.predict(clickbait_test_arr)\n",
        "print('first 20 actual labels: ',y_test_clickbait.tolist()[:20])\n",
        "print('first 20 predicted labels: ',clickbait_pred.tolist()[:20])"
      ],
      "metadata": {
        "colab": {
          "base_uri": "https://localhost:8080/"
        },
        "id": "I--ggcF-qboR",
        "outputId": "f550cbf0-7856-4621-b187-902d1aa1ff03"
      },
      "execution_count": null,
      "outputs": [
        {
          "output_type": "stream",
          "name": "stdout",
          "text": [
            "first 20 actual labels:  [0, 1, 1, 0, 0, 1, 0, 0, 0, 0, 0, 0, 0, 1, 0, 0, 0, 0, 0, 1]\n",
            "first 20 predicted labels:  [0, 0, 0, 0, 0, 1, 0, 0, 0, 0, 0, 0, 0, 1, 0, 0, 0, 0, 0, 1]\n"
          ]
        }
      ]
    },
    {
      "cell_type": "code",
      "source": [
        "print(\"Accuracy of the model\")\n",
        "print(accuracy_score(y_test_clickbait,clickbait_pred))\n",
        "print(\"Accuracy of the model in percentage\")\n",
        "print(accuracy_score(y_test_clickbait,clickbait_pred)*100,\"%\")"
      ],
      "metadata": {
        "colab": {
          "base_uri": "https://localhost:8080/"
        },
        "id": "mFUyQDf6qdcM",
        "outputId": "1d0729b5-86fd-4916-efe2-0f496e2afaea"
      },
      "execution_count": null,
      "outputs": [
        {
          "output_type": "stream",
          "name": "stdout",
          "text": [
            "Accuracy of the model\n",
            "0.8280010937927262\n",
            "Accuracy of the model in percentage\n",
            "82.80010937927263 %\n"
          ]
        }
      ]
    },
    {
      "cell_type": "code",
      "source": [
        "'''x_names = [\"Clickbaits\", \"Non-Clickbaits\"]\n",
        "n_values = [nc,nnc]\n",
        "fn_values = [fnc,fnnc] \n",
        "X_axis = np.arange(len(x_names))\n",
        "  \n",
        "plt.bar(X_axis - 0.15, n_values, 0.3, label = 'News')\n",
        "for i in range(len(X_axis)):\n",
        "        plt.text(i - 0.2,n_values[i],n_values[i])\n",
        "plt.bar(X_axis + 0.15, fn_values, 0.3, label = 'Fake News')\n",
        "for i in range(len(X_axis)):\n",
        "        plt.text(i + 0.1,fn_values[i],fn_values[i])\n",
        "plt.xticks(X_axis, x_names)\n",
        "plt.xlabel(\"distribution of Fake News\")\n",
        "plt.ylabel(\"Number\")\n",
        "\n",
        "plt.legend()\n",
        "plt.show()'''"
      ],
      "metadata": {
        "colab": {
          "base_uri": "https://localhost:8080/",
          "height": 88
        },
        "id": "5-hfDYs7no33",
        "outputId": "6ee341dd-c0fb-4f92-954f-c3f28a143ac2"
      },
      "execution_count": null,
      "outputs": [
        {
          "output_type": "execute_result",
          "data": {
            "text/plain": [
              "'x_names = [\"Clickbaits\", \"Non-Clickbaits\"]\\nn_values = [nc,nnc]\\nfn_values = [fnc,fnnc] \\nX_axis = np.arange(len(x_names))\\n  \\nplt.bar(X_axis - 0.15, n_values, 0.3, label = \\'News\\')\\nfor i in range(len(X_axis)):\\n        plt.text(i - 0.2,n_values[i],n_values[i])\\nplt.bar(X_axis + 0.15, fn_values, 0.3, label = \\'Fake News\\')\\nfor i in range(len(X_axis)):\\n        plt.text(i + 0.1,fn_values[i],fn_values[i])\\nplt.xticks(X_axis, x_names)\\nplt.xlabel(\"distribution of Fake News\")\\nplt.ylabel(\"Number\")\\n\\nplt.legend()\\nplt.show()'"
            ],
            "application/vnd.google.colaboratory.intrinsic+json": {
              "type": "string"
            }
          },
          "metadata": {},
          "execution_count": 39
        }
      ]
    },
    {
      "cell_type": "code",
      "source": [
        "'''checkdf = pd.DataFrame()\n",
        "checkdf['actual_label']  = y_test_fakenews\n",
        "checkdf['pred_label'] = Y_FakeNews_pred\n",
        "checkdf['actual_clickbait'] = y_test_clickbait\n",
        "checkdf['pred_clickbait'] = clickbait_pred\n",
        "for i in range(len(checkdf)):\n",
        "  checkdf['pred_label'] = checkdf['pred_label'].round(8)\n",
        "checkdf'''"
      ],
      "metadata": {
        "colab": {
          "base_uri": "https://localhost:8080/",
          "height": 70
        },
        "id": "Dn2acYxrPsVr",
        "outputId": "2ec671d9-6faf-4db9-cced-07503003f2da"
      },
      "execution_count": null,
      "outputs": [
        {
          "output_type": "execute_result",
          "data": {
            "text/plain": [
              "\"checkdf = pd.DataFrame()\\ncheckdf['actual_label']  = y_test_fakenews\\ncheckdf['pred_label'] = Y_FakeNews_pred\\ncheckdf['actual_clickbait'] = y_test_clickbait\\ncheckdf['pred_clickbait'] = clickbait_pred\\nfor i in range(len(checkdf)):\\n  checkdf['pred_label'] = checkdf['pred_label'].round(8)\\ncheckdf\""
            ],
            "application/vnd.google.colaboratory.intrinsic+json": {
              "type": "string"
            }
          },
          "metadata": {},
          "execution_count": 40
        }
      ]
    },
    {
      "cell_type": "markdown",
      "source": [
        "# Creating a hybrid model"
      ],
      "metadata": {
        "id": "tzeoZForq0fJ"
      }
    },
    {
      "cell_type": "code",
      "source": [
        "Fake_news_pred = Y_FakeNews_pred.tolist()\n",
        "Fake_news_Binary_pred = NY_FakeNews_pred.tolist()\n",
        "len(Fake_news_Binary_pred)"
      ],
      "metadata": {
        "colab": {
          "base_uri": "https://localhost:8080/"
        },
        "id": "k1fdTPTsqzN1",
        "outputId": "e5c7f627-bca0-4f11-e0ff-dbbae8739383"
      },
      "execution_count": null,
      "outputs": [
        {
          "output_type": "execute_result",
          "data": {
            "text/plain": [
              "3657"
            ]
          },
          "metadata": {},
          "execution_count": 84
        }
      ]
    },
    {
      "cell_type": "code",
      "source": [
        "clickbait_news_pred = clickbait_pred.tolist()\n",
        "len(clickbait_news_pred)"
      ],
      "metadata": {
        "colab": {
          "base_uri": "https://localhost:8080/"
        },
        "id": "4YL-zh5HsPsv",
        "outputId": "e044e065-d242-43e6-9b89-fb3d6d794a78"
      },
      "execution_count": null,
      "outputs": [
        {
          "output_type": "execute_result",
          "data": {
            "text/plain": [
              "3657"
            ]
          },
          "metadata": {},
          "execution_count": 85
        }
      ]
    },
    {
      "cell_type": "code",
      "source": [
        "nc = 0\n",
        "fnc = 0\n",
        "fnnc = 0\n",
        "nnc = 0\n",
        "for i in range(len(Fake_news_Binary_pred)):\n",
        "  if(Fake_news_Binary_pred[i] == 1):\n",
        "    if(clickbait_news_pred[i] == 1):\n",
        "      fnc+=1\n",
        "    else:\n",
        "      fnnc+=1\n",
        "  else:\n",
        "    if(clickbait_news_pred[i] == 1):\n",
        "      nc+=1\n",
        "    else:\n",
        "      nnc+=1\n",
        "print(nc,fnc,fnnc,nnc)\n",
        "print(\"If clickbait then chance of fake news:\", fnc*100/(fnc+nc))\n",
        "print(\"If non-clickbait then chance of fake news:\", fnnc*100/(fnnc+nnc))"
      ],
      "metadata": {
        "colab": {
          "base_uri": "https://localhost:8080/"
        },
        "id": "ZsJoyXwHubjE",
        "outputId": "b5696458-0630-4568-c4d0-d111d475b2b3"
      },
      "execution_count": null,
      "outputs": [
        {
          "output_type": "stream",
          "name": "stdout",
          "text": [
            "221 211 1461 1764\n",
            "If clickbait then chance of fake news: 48.842592592592595\n",
            "If non-clickbait then chance of fake news: 45.30232558139535\n"
          ]
        }
      ]
    },
    {
      "cell_type": "code",
      "source": [
        "for i in range(len(Fake_news_Binary_pred)):\n",
        "  if(clickbait_news_pred[i] == 1):\n",
        "      #Fake_news_pred[i] = 0.60*Fake_news_pred[i] + 0.40*clickbait_news_pred[i]\n",
        "      pass\n",
        "  else:\n",
        "      Fake_news_pred[i] = 0.55*Fake_news_pred[i] + 0.45*clickbait_news_pred[i]\n",
        "      \n",
        "Final_binary = []      \n",
        "for i in range(len(Fake_news_pred)):\n",
        "  if(Fake_news_pred[i]>=0.5):\n",
        "    Final_binary.append(1)\n",
        "  else:\n",
        "    Final_binary.append(0)"
      ],
      "metadata": {
        "id": "5d9rNldHa9Oj"
      },
      "execution_count": null,
      "outputs": []
    },
    {
      "cell_type": "code",
      "source": [
        "nc = 0\n",
        "fnc = 0\n",
        "fnnc = 0\n",
        "nnc = 0\n",
        "for i in range(len(Final_binary)):\n",
        "  if(Final_binary[i] == 1):\n",
        "    if(clickbait_news_pred[i] == 1):\n",
        "      fnc+=1\n",
        "    else:\n",
        "      fnnc+=1\n",
        "  else:\n",
        "    if(clickbait_news_pred[i] == 1):\n",
        "      nc+=1\n",
        "    else:\n",
        "      nnc+=1\n",
        "print(nc,fnc,fnnc,nnc)\n",
        "print(\"If clickbait then chance of fake news:\", fnc*100/(fnc+nc))\n",
        "print(\"If non-clickbait then chance of fake news:\", fnnc*100/(fnnc+nnc))"
      ],
      "metadata": {
        "colab": {
          "base_uri": "https://localhost:8080/"
        },
        "id": "5frN8k9iDMPV",
        "outputId": "802e2edf-3037-4035-ec6b-a9fd36aa491f"
      },
      "execution_count": null,
      "outputs": [
        {
          "output_type": "stream",
          "name": "stdout",
          "text": [
            "210 222 1419 1806\n",
            "If clickbait then chance of fake news: 51.388888888888886\n",
            "If non-clickbait then chance of fake news: 44.0\n"
          ]
        }
      ]
    },
    {
      "cell_type": "code",
      "source": [
        "final = pd.Series(Fake_news_pred)\n",
        "type(final)"
      ],
      "metadata": {
        "colab": {
          "base_uri": "https://localhost:8080/"
        },
        "id": "LpQRP-4asNMC",
        "outputId": "be7265f5-267b-492d-c47d-144e18f76c75"
      },
      "execution_count": null,
      "outputs": [
        {
          "output_type": "execute_result",
          "data": {
            "text/plain": [
              "pandas.core.series.Series"
            ]
          },
          "metadata": {},
          "execution_count": 89
        }
      ]
    },
    {
      "cell_type": "code",
      "source": [
        "Nfinal = np.where(final > 0.5, 1, 0)\n",
        "cf_matrix=confusion_matrix(y_final_test, Nfinal)\n",
        "print(accuracy_score(y_final_test, Nfinal))\n",
        "print(cf_matrix)"
      ],
      "metadata": {
        "colab": {
          "base_uri": "https://localhost:8080/"
        },
        "id": "960ws4Vcq1Zn",
        "outputId": "2df43e20-197f-4856-f67c-1bca778de849"
      },
      "execution_count": null,
      "outputs": [
        {
          "output_type": "stream",
          "name": "stdout",
          "text": [
            "0.8326497128794094\n",
            "[[1743  339]\n",
            " [ 273 1302]]\n"
          ]
        }
      ]
    },
    {
      "cell_type": "code",
      "source": [
        "import seaborn as sns\n",
        "ax = sns.heatmap(cf_matrix/np.sum(cf_matrix), annot=True,fmt='.2%', cmap='Blues')\n",
        "ax.set_title('Confusion Matrix with labels and percentage\\n\\n');\n",
        "ax.set_xlabel('\\nPredicted Values')\n",
        "ax.set_ylabel('Actual Values ');\n",
        "ax.xaxis.set_ticklabels(['False','True'])\n",
        "ax.yaxis.set_ticklabels(['False','True'])\n",
        "plt.show()"
      ],
      "metadata": {
        "colab": {
          "base_uri": "https://localhost:8080/",
          "height": 337
        },
        "id": "J0Zm1rH2pkmX",
        "outputId": "3637b644-959e-4a30-d2a8-d00715045d8b"
      },
      "execution_count": null,
      "outputs": [
        {
          "output_type": "display_data",
          "data": {
            "text/plain": [
              "<Figure size 432x288 with 2 Axes>"
            ],
            "image/png": "[encoded data removed]"
          },
          "metadata": {
            "needs_background": "light"
          }
        }
      ]
    },
    {
      "cell_type": "code",
      "source": [
        "from sklearn.metrics import classification_report\n",
        "print(classification_report(y_final_test, Nfinal))"
      ],
      "metadata": {
        "colab": {
          "base_uri": "https://localhost:8080/"
        },
        "id": "keaL7osyKOQb",
        "outputId": "1bb015d5-abb0-47ef-c012-618d7c7e4a7a"
      },
      "execution_count": null,
      "outputs": [
        {
          "output_type": "stream",
          "name": "stdout",
          "text": [
            "              precision    recall  f1-score   support\n",
            "\n",
            "           0       0.86      0.84      0.85      2082\n",
            "           1       0.79      0.83      0.81      1575\n",
            "\n",
            "    accuracy                           0.83      3657\n",
            "   macro avg       0.83      0.83      0.83      3657\n",
            "weighted avg       0.83      0.83      0.83      3657\n",
            "\n"
          ]
        }
      ]
    }
  ]
}