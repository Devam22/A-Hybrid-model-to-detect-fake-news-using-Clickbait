{
  "cells": [
    {
      "cell_type": "code",
      "execution_count": null,
      "id": "ad094b2a",
      "metadata": {
        "_cell_guid": "b1076dfc-b9ad-4769-8c92-a6c4dae69d19",
        "_uuid": "8f2839f25d086af736a60e9eeb907d3b93b6e0e5",
        "execution": {
          "iopub.execute_input": "2022-03-03T18:12:30.119673Z",
          "iopub.status.busy": "2022-03-03T18:12:30.119037Z",
          "iopub.status.idle": "2022-03-03T18:12:30.132017Z",
          "shell.execute_reply": "2022-03-03T18:12:30.131158Z",
          "shell.execute_reply.started": "2022-03-03T18:09:18.804965Z"
        },
        "papermill": {
          "duration": 0.084886,
          "end_time": "2022-03-03T18:12:30.132217",
          "exception": false,
          "start_time": "2022-03-03T18:12:30.047331",
          "status": "completed"
        },
        "tags": [],
        "id": "ad094b2a"
      },
      "outputs": [],
      "source": [
        "import numpy as np \n",
        "import pandas as pd \n",
        "from tensorflow.keras.layers import Embedding\n",
        "from tensorflow.keras.preprocessing.sequence import pad_sequences\n",
        "from tensorflow.keras.preprocessing.text import one_hot\n",
        "from tensorflow.keras.models import Sequential\n",
        "from tensorflow.keras.layers import LSTM, Dense\n",
        "import matplotlib.pyplot as plt   "
      ]
    },
    {
      "cell_type": "code",
      "execution_count": null,
      "id": "266f3fef",
      "metadata": {
        "execution": {
          "iopub.execute_input": "2022-03-03T18:12:30.264545Z",
          "iopub.status.busy": "2022-03-03T18:12:30.262428Z",
          "iopub.status.idle": "2022-03-03T18:12:32.984104Z",
          "shell.execute_reply": "2022-03-03T18:12:32.983335Z",
          "shell.execute_reply.started": "2022-03-03T18:09:18.822189Z"
        },
        "papermill": {
          "duration": 2.787981,
          "end_time": "2022-03-03T18:12:32.984276",
          "exception": false,
          "start_time": "2022-03-03T18:12:30.196295",
          "status": "completed"
        },
        "tags": [],
        "id": "266f3fef"
      },
      "outputs": [],
      "source": [
        "df = pd.read_csv('FakeNews_and_Clickbait_Detection.csv')"
      ]
    },
    {
      "cell_type": "code",
      "execution_count": null,
      "id": "26a07287",
      "metadata": {
        "execution": {
          "iopub.execute_input": "2022-03-03T18:12:33.128727Z",
          "iopub.status.busy": "2022-03-03T18:12:33.127781Z",
          "iopub.status.idle": "2022-03-03T18:12:33.144779Z",
          "shell.execute_reply": "2022-03-03T18:12:33.145288Z",
          "shell.execute_reply.started": "2022-03-03T18:09:20.094033Z"
        },
        "papermill": {
          "duration": 0.09596,
          "end_time": "2022-03-03T18:12:33.145486",
          "exception": false,
          "start_time": "2022-03-03T18:12:33.049526",
          "status": "completed"
        },
        "tags": [],
        "colab": {
          "base_uri": "https://localhost:8080/",
          "height": 285
        },
        "id": "26a07287",
        "outputId": "6bcdad60-bbf8-420c-fb22-85dc8fad1298"
      },
      "outputs": [
        {
          "output_type": "execute_result",
          "data": {
            "text/plain": [
              "   Unnamed: 0  id                                              title  \\\n",
              "0           0   0  House Dem Aide: We Didn’t Even See Comey’s Let...   \n",
              "1           1   1  FLYNN: Hillary Clinton, Big Woman on Campus - ...   \n",
              "2           2   2                  Why the Truth Might Get You Fired   \n",
              "3           3   3  15 Civilians Killed In Single US Airstrike Hav...   \n",
              "4           4   4  Iranian woman jailed for fictional unpublished...   \n",
              "\n",
              "               author                                               text  \\\n",
              "0       Darrell Lucus  House Dem Aide: We Didn’t Even See Comey’s Let...   \n",
              "1     Daniel J. Flynn  Ever get the feeling your life circles the rou...   \n",
              "2  Consortiumnews.com  Why the Truth Might Get You Fired October 29, ...   \n",
              "3     Jessica Purkiss  Videos 15 Civilians Killed In Single US Airstr...   \n",
              "4      Howard Portnoy  Print \\nAn Iranian woman has been sentenced to...   \n",
              "\n",
              "   label  clickbait  \n",
              "0      1          1  \n",
              "1      0          0  \n",
              "2      1          1  \n",
              "3      1          0  \n",
              "4      1          0  "
            ],
            "text/html": [
              "\n",
              "  <div id=\"df-15a2bbc8-897b-45b1-b3c7-1144326b8e77\">\n",
              "    <div class=\"colab-df-container\">\n",
              "      <div>\n",
              "<style scoped>\n",
              "    .dataframe tbody tr th:only-of-type {\n",
              "        vertical-align: middle;\n",
              "    }\n",
              "\n",
              "    .dataframe tbody tr th {\n",
              "        vertical-align: top;\n",
              "    }\n",
              "\n",
              "    .dataframe thead th {\n",
              "        text-align: right;\n",
              "    }\n",
              "</style>\n",
              "<table border=\"1\" class=\"dataframe\">\n",
              "  <thead>\n",
              "    <tr style=\"text-align: right;\">\n",
              "      <th></th>\n",
              "      <th>Unnamed: 0</th>\n",
              "      <th>id</th>\n",
              "      <th>title</th>\n",
              "      <th>author</th>\n",
              "      <th>text</th>\n",
              "      <th>label</th>\n",
              "      <th>clickbait</th>\n",
              "    </tr>\n",
              "  </thead>\n",
              "  <tbody>\n",
              "    <tr>\n",
              "      <th>0</th>\n",
              "      <td>0</td>\n",
              "      <td>0</td>\n",
              "      <td>House Dem Aide: We Didn’t Even See Comey’s Let...</td>\n",
              "      <td>Darrell Lucus</td>\n",
              "      <td>House Dem Aide: We Didn’t Even See Comey’s Let...</td>\n",
              "      <td>1</td>\n",
              "      <td>1</td>\n",
              "    </tr>\n",
              "    <tr>\n",
              "      <th>1</th>\n",
              "      <td>1</td>\n",
              "      <td>1</td>\n",
              "      <td>FLYNN: Hillary Clinton, Big Woman on Campus - ...</td>\n",
              "      <td>Daniel J. Flynn</td>\n",
              "      <td>Ever get the feeling your life circles the rou...</td>\n",
              "      <td>0</td>\n",
              "      <td>0</td>\n",
              "    </tr>\n",
              "    <tr>\n",
              "      <th>2</th>\n",
              "      <td>2</td>\n",
              "      <td>2</td>\n",
              "      <td>Why the Truth Might Get You Fired</td>\n",
              "      <td>Consortiumnews.com</td>\n",
              "      <td>Why the Truth Might Get You Fired October 29, ...</td>\n",
              "      <td>1</td>\n",
              "      <td>1</td>\n",
              "    </tr>\n",
              "    <tr>\n",
              "      <th>3</th>\n",
              "      <td>3</td>\n",
              "      <td>3</td>\n",
              "      <td>15 Civilians Killed In Single US Airstrike Hav...</td>\n",
              "      <td>Jessica Purkiss</td>\n",
              "      <td>Videos 15 Civilians Killed In Single US Airstr...</td>\n",
              "      <td>1</td>\n",
              "      <td>0</td>\n",
              "    </tr>\n",
              "    <tr>\n",
              "      <th>4</th>\n",
              "      <td>4</td>\n",
              "      <td>4</td>\n",
              "      <td>Iranian woman jailed for fictional unpublished...</td>\n",
              "      <td>Howard Portnoy</td>\n",
              "      <td>Print \\nAn Iranian woman has been sentenced to...</td>\n",
              "      <td>1</td>\n",
              "      <td>0</td>\n",
              "    </tr>\n",
              "  </tbody>\n",
              "</table>\n",
              "</div>\n",
              "      <button class=\"colab-df-convert\" onclick=\"convertToInteractive('df-15a2bbc8-897b-45b1-b3c7-1144326b8e77')\"\n",
              "              title=\"Convert this dataframe to an interactive table.\"\n",
              "              style=\"display:none;\">\n",
              "        \n",
              "  <svg xmlns=\"http://www.w3.org/2000/svg\" height=\"24px\"viewBox=\"0 0 24 24\"\n",
              "       width=\"24px\">\n",
              "    <path d=\"M0 0h24v24H0V0z\" fill=\"none\"/>\n",
              "    <path d=\"M18.56 5.44l.94 2.06.94-2.06 2.06-.94-2.06-.94-.94-2.06-.94 2.06-2.06.94zm-11 1L8.5 8.5l.94-2.06 2.06-.94-2.06-.94L8.5 2.5l-.94 2.06-2.06.94zm10 10l.94 2.06.94-2.06 2.06-.94-2.06-.94-.94-2.06-.94 2.06-2.06.94z\"/><path d=\"M17.41 7.96l-1.37-1.37c-.4-.4-.92-.59-1.43-.59-.52 0-1.04.2-1.43.59L10.3 9.45l-7.72 7.72c-.78.78-.78 2.05 0 2.83L4 21.41c.39.39.9.59 1.41.59.51 0 1.02-.2 1.41-.59l7.78-7.78 2.81-2.81c.8-.78.8-2.07 0-2.86zM5.41 20L4 18.59l7.72-7.72 1.47 1.35L5.41 20z\"/>\n",
              "  </svg>\n",
              "      </button>\n",
              "      \n",
              "  <style>\n",
              "    .colab-df-container {\n",
              "      display:flex;\n",
              "      flex-wrap:wrap;\n",
              "      gap: 12px;\n",
              "    }\n",
              "\n",
              "    .colab-df-convert {\n",
              "      background-color: #E8F0FE;\n",
              "      border: none;\n",
              "      border-radius: 50%;\n",
              "      cursor: pointer;\n",
              "      display: none;\n",
              "      fill: #1967D2;\n",
              "      height: 32px;\n",
              "      padding: 0 0 0 0;\n",
              "      width: 32px;\n",
              "    }\n",
              "\n",
              "    .colab-df-convert:hover {\n",
              "      background-color: #E2EBFA;\n",
              "      box-shadow: 0px 1px 2px rgba(60, 64, 67, 0.3), 0px 1px 3px 1px rgba(60, 64, 67, 0.15);\n",
              "      fill: #174EA6;\n",
              "    }\n",
              "\n",
              "    [theme=dark] .colab-df-convert {\n",
              "      background-color: #3B4455;\n",
              "      fill: #D2E3FC;\n",
              "    }\n",
              "\n",
              "    [theme=dark] .colab-df-convert:hover {\n",
              "      background-color: #434B5C;\n",
              "      box-shadow: 0px 1px 3px 1px rgba(0, 0, 0, 0.15);\n",
              "      filter: drop-shadow(0px 1px 2px rgba(0, 0, 0, 0.3));\n",
              "      fill: #FFFFFF;\n",
              "    }\n",
              "  </style>\n",
              "\n",
              "      <script>\n",
              "        const buttonEl =\n",
              "          document.querySelector('#df-15a2bbc8-897b-45b1-b3c7-1144326b8e77 button.colab-df-convert');\n",
              "        buttonEl.style.display =\n",
              "          google.colab.kernel.accessAllowed ? 'block' : 'none';\n",
              "\n",
              "        async function convertToInteractive(key) {\n",
              "          const element = document.querySelector('#df-15a2bbc8-897b-45b1-b3c7-1144326b8e77');\n",
              "          const dataTable =\n",
              "            await google.colab.kernel.invokeFunction('convertToInteractive',\n",
              "                                                     [key], {});\n",
              "          if (!dataTable) return;\n",
              "\n",
              "          const docLinkHtml = 'Like what you see? Visit the ' +\n",
              "            '<a target=\"_blank\" href=https://colab.research.google.com/notebooks/data_table.ipynb>data table notebook</a>'\n",
              "            + ' to learn more about interactive tables.';\n",
              "          element.innerHTML = '';\n",
              "          dataTable['output_type'] = 'display_data';\n",
              "          await google.colab.output.renderOutput(dataTable, element);\n",
              "          const docLink = document.createElement('div');\n",
              "          docLink.innerHTML = docLinkHtml;\n",
              "          element.appendChild(docLink);\n",
              "        }\n",
              "      </script>\n",
              "    </div>\n",
              "  </div>\n",
              "  "
            ]
          },
          "metadata": {},
          "execution_count": 5
        }
      ],
      "source": [
        "#1 means the news is fake and  means that the news is real\n",
        "df.head()"
      ]
    },
    {
      "cell_type": "code",
      "execution_count": null,
      "id": "118b02fc",
      "metadata": {
        "execution": {
          "iopub.execute_input": "2022-03-03T18:12:33.285590Z",
          "iopub.status.busy": "2022-03-03T18:12:33.284247Z",
          "iopub.status.idle": "2022-03-03T18:12:33.309207Z",
          "shell.execute_reply": "2022-03-03T18:12:33.309770Z",
          "shell.execute_reply.started": "2022-03-03T18:09:20.112519Z"
        },
        "papermill": {
          "duration": 0.097919,
          "end_time": "2022-03-03T18:12:33.309988",
          "exception": false,
          "start_time": "2022-03-03T18:12:33.212069",
          "status": "completed"
        },
        "tags": [],
        "id": "118b02fc"
      },
      "outputs": [],
      "source": [
        "df = df.dropna()"
      ]
    },
    {
      "cell_type": "code",
      "execution_count": null,
      "id": "11eb37d2",
      "metadata": {
        "execution": {
          "iopub.execute_input": "2022-03-03T18:12:33.449522Z",
          "iopub.status.busy": "2022-03-03T18:12:33.443785Z",
          "iopub.status.idle": "2022-03-03T18:12:33.457931Z",
          "shell.execute_reply": "2022-03-03T18:12:33.457142Z",
          "shell.execute_reply.started": "2022-03-03T18:09:20.126955Z"
        },
        "papermill": {
          "duration": 0.082782,
          "end_time": "2022-03-03T18:12:33.458208",
          "exception": false,
          "start_time": "2022-03-03T18:12:33.375426",
          "status": "completed"
        },
        "tags": [],
        "id": "11eb37d2"
      },
      "outputs": [],
      "source": [
        "X = df.drop('label', axis = 1)"
      ]
    },
    {
      "cell_type": "code",
      "execution_count": null,
      "id": "7bc147c6",
      "metadata": {
        "execution": {
          "iopub.execute_input": "2022-03-03T18:12:33.594539Z",
          "iopub.status.busy": "2022-03-03T18:12:33.593844Z",
          "iopub.status.idle": "2022-03-03T18:12:33.596843Z",
          "shell.execute_reply": "2022-03-03T18:12:33.596255Z",
          "shell.execute_reply.started": "2022-03-03T18:09:20.135228Z"
        },
        "papermill": {
          "duration": 0.073988,
          "end_time": "2022-03-03T18:12:33.597020",
          "exception": false,
          "start_time": "2022-03-03T18:12:33.523032",
          "status": "completed"
        },
        "tags": [],
        "id": "7bc147c6"
      },
      "outputs": [],
      "source": [
        "y = df['label']"
      ]
    },
    {
      "cell_type": "code",
      "execution_count": null,
      "id": "386769ce",
      "metadata": {
        "execution": {
          "iopub.execute_input": "2022-03-03T18:12:33.727524Z",
          "iopub.status.busy": "2022-03-03T18:12:33.726568Z",
          "iopub.status.idle": "2022-03-03T18:12:33.732547Z",
          "shell.execute_reply": "2022-03-03T18:12:33.731939Z",
          "shell.execute_reply.started": "2022-03-03T18:09:20.147827Z"
        },
        "papermill": {
          "duration": 0.072355,
          "end_time": "2022-03-03T18:12:33.732683",
          "exception": false,
          "start_time": "2022-03-03T18:12:33.660328",
          "status": "completed"
        },
        "tags": [],
        "colab": {
          "base_uri": "https://localhost:8080/"
        },
        "id": "386769ce",
        "outputId": "4905fcd3-ef90-474f-f667-8ec81fba94e4"
      },
      "outputs": [
        {
          "output_type": "execute_result",
          "data": {
            "text/plain": [
              "(18285, 6)"
            ]
          },
          "metadata": {},
          "execution_count": 9
        }
      ],
      "source": [
        "X.shape"
      ]
    },
    {
      "cell_type": "code",
      "execution_count": null,
      "id": "a62ebf2d",
      "metadata": {
        "execution": {
          "iopub.execute_input": "2022-03-03T18:12:33.863493Z",
          "iopub.status.busy": "2022-03-03T18:12:33.862841Z",
          "iopub.status.idle": "2022-03-03T18:12:33.868364Z",
          "shell.execute_reply": "2022-03-03T18:12:33.868979Z",
          "shell.execute_reply.started": "2022-03-03T18:09:20.157238Z"
        },
        "papermill": {
          "duration": 0.072941,
          "end_time": "2022-03-03T18:12:33.869150",
          "exception": false,
          "start_time": "2022-03-03T18:12:33.796209",
          "status": "completed"
        },
        "tags": [],
        "colab": {
          "base_uri": "https://localhost:8080/"
        },
        "id": "a62ebf2d",
        "outputId": "9688f7b2-dc28-460c-fde4-4600c104ead7"
      },
      "outputs": [
        {
          "output_type": "execute_result",
          "data": {
            "text/plain": [
              "(18285,)"
            ]
          },
          "metadata": {},
          "execution_count": 10
        }
      ],
      "source": [
        "y.shape"
      ]
    },
    {
      "cell_type": "code",
      "execution_count": null,
      "id": "d162bf4b",
      "metadata": {
        "execution": {
          "iopub.execute_input": "2022-03-03T18:12:41.144617Z",
          "iopub.status.busy": "2022-03-03T18:12:41.143957Z",
          "iopub.status.idle": "2022-03-03T18:12:41.147298Z",
          "shell.execute_reply": "2022-03-03T18:12:41.147830Z",
          "shell.execute_reply.started": "2022-03-03T18:09:22.031308Z"
        },
        "papermill": {
          "duration": 0.073816,
          "end_time": "2022-03-03T18:12:41.148010",
          "exception": false,
          "start_time": "2022-03-03T18:12:41.074194",
          "status": "completed"
        },
        "tags": [],
        "id": "d162bf4b"
      },
      "outputs": [],
      "source": [
        "voc_size = 5000"
      ]
    },
    {
      "cell_type": "code",
      "execution_count": null,
      "id": "832c7808",
      "metadata": {
        "execution": {
          "iopub.execute_input": "2022-03-03T18:12:41.283622Z",
          "iopub.status.busy": "2022-03-03T18:12:41.282983Z",
          "iopub.status.idle": "2022-03-03T18:12:41.287591Z",
          "shell.execute_reply": "2022-03-03T18:12:41.288197Z",
          "shell.execute_reply.started": "2022-03-03T18:09:22.039170Z"
        },
        "papermill": {
          "duration": 0.075588,
          "end_time": "2022-03-03T18:12:41.288400",
          "exception": false,
          "start_time": "2022-03-03T18:12:41.212812",
          "status": "completed"
        },
        "tags": [],
        "id": "832c7808"
      },
      "outputs": [],
      "source": [
        "msg = X.copy()"
      ]
    },
    {
      "cell_type": "code",
      "execution_count": null,
      "id": "5eada675",
      "metadata": {
        "execution": {
          "iopub.execute_input": "2022-03-03T18:12:41.424309Z",
          "iopub.status.busy": "2022-03-03T18:12:41.423263Z",
          "iopub.status.idle": "2022-03-03T18:12:41.429453Z",
          "shell.execute_reply": "2022-03-03T18:12:41.429987Z",
          "shell.execute_reply.started": "2022-03-03T18:09:22.049579Z"
        },
        "papermill": {
          "duration": 0.076412,
          "end_time": "2022-03-03T18:12:41.430187",
          "exception": false,
          "start_time": "2022-03-03T18:12:41.353775",
          "status": "completed"
        },
        "tags": [],
        "id": "5eada675"
      },
      "outputs": [],
      "source": [
        "#reset the index to get the proper count\n",
        "msg.reset_index(inplace = True)"
      ]
    },
    {
      "cell_type": "code",
      "source": [
        ""
      ],
      "metadata": {
        "id": "DXFxWf5kU8Zs"
      },
      "id": "DXFxWf5kU8Zs",
      "execution_count": null,
      "outputs": []
    },
    {
      "cell_type": "code",
      "execution_count": null,
      "id": "7db2e9ea",
      "metadata": {
        "execution": {
          "iopub.execute_input": "2022-03-03T18:12:41.563544Z",
          "iopub.status.busy": "2022-03-03T18:12:41.562810Z",
          "iopub.status.idle": "2022-03-03T18:12:42.942096Z",
          "shell.execute_reply": "2022-03-03T18:12:42.941455Z",
          "shell.execute_reply.started": "2022-03-03T18:09:22.057046Z"
        },
        "papermill": {
          "duration": 1.446867,
          "end_time": "2022-03-03T18:12:42.942275",
          "exception": false,
          "start_time": "2022-03-03T18:12:41.495408",
          "status": "completed"
        },
        "tags": [],
        "id": "7db2e9ea",
        "colab": {
          "base_uri": "https://localhost:8080/"
        },
        "outputId": "4701eff0-67e6-45d7-f501-7d2de012fc38"
      },
      "outputs": [
        {
          "output_type": "stream",
          "name": "stdout",
          "text": [
            "[nltk_data] Downloading package stopwords to /root/nltk_data...\n",
            "[nltk_data]   Unzipping corpora/stopwords.zip.\n",
            "[nltk_data] Downloading package punkt to /root/nltk_data...\n",
            "[nltk_data]   Unzipping tokenizers/punkt.zip.\n"
          ]
        }
      ],
      "source": [
        "import nltk\n",
        "import re\n",
        "from nltk.corpus import stopwords\n",
        "nltk.download('stopwords')\n",
        "nltk.download('punkt')\n",
        "from nltk.stem.porter import PorterStemmer\n",
        "ps = PorterStemmer()"
      ]
    },
    {
      "cell_type": "code",
      "execution_count": null,
      "id": "4e609dbe",
      "metadata": {
        "execution": {
          "iopub.execute_input": "2022-03-03T18:12:43.746399Z",
          "iopub.status.busy": "2022-03-03T18:12:43.745322Z",
          "iopub.status.idle": "2022-03-03T18:13:19.364105Z",
          "shell.execute_reply": "2022-03-03T18:13:19.364660Z",
          "shell.execute_reply.started": "2022-03-03T18:09:22.629369Z"
        },
        "papermill": {
          "duration": 35.687919,
          "end_time": "2022-03-03T18:13:19.364948",
          "exception": false,
          "start_time": "2022-03-03T18:12:43.677029",
          "status": "completed"
        },
        "tags": [],
        "id": "4e609dbe"
      },
      "outputs": [],
      "source": [
        "corpus = []\n",
        "for i in range(0, len(msg)):\n",
        "   \n",
        "    review = re.sub('[^a-zA-Z]', ' ', msg['text'][i])\n",
        "    review = review.lower()\n",
        "    review = review.split()\n",
        "    \n",
        "    review = [ps.stem(word) for word in review if not word in stopwords.words('english')]\n",
        "    review = ' '.join(review)\n",
        "    corpus.append(review)"
      ]
    },
    {
      "cell_type": "code",
      "execution_count": null,
      "id": "8926ccf6",
      "metadata": {
        "execution": {
          "iopub.execute_input": "2022-03-03T18:13:19.504162Z",
          "iopub.status.busy": "2022-03-03T18:13:19.503287Z",
          "iopub.status.idle": "2022-03-03T18:13:19.508333Z",
          "shell.execute_reply": "2022-03-03T18:13:19.507611Z",
          "shell.execute_reply.started": "2022-03-03T18:09:54.469847Z"
        },
        "papermill": {
          "duration": 0.075739,
          "end_time": "2022-03-03T18:13:19.508507",
          "exception": false,
          "start_time": "2022-03-03T18:13:19.432768",
          "status": "completed"
        },
        "tags": [],
        "id": "8926ccf6"
      },
      "outputs": [],
      "source": [
        "from tensorflow.keras.layers import Bidirectional"
      ]
    },
    {
      "cell_type": "code",
      "execution_count": null,
      "id": "3653dd87",
      "metadata": {
        "execution": {
          "iopub.execute_input": "2022-03-03T18:13:19.646884Z",
          "iopub.status.busy": "2022-03-03T18:13:19.646256Z",
          "iopub.status.idle": "2022-03-03T18:13:19.650611Z",
          "shell.execute_reply": "2022-03-03T18:13:19.651142Z",
          "shell.execute_reply.started": "2022-03-03T18:09:54.474276Z"
        },
        "papermill": {
          "duration": 0.07594,
          "end_time": "2022-03-03T18:13:19.651338",
          "exception": false,
          "start_time": "2022-03-03T18:13:19.575398",
          "status": "completed"
        },
        "tags": [],
        "colab": {
          "base_uri": "https://localhost:8080/"
        },
        "id": "3653dd87",
        "outputId": "6450aeea-89db-4c59-aef8-ac6c208e6a8f"
      },
      "outputs": [
        {
          "output_type": "execute_result",
          "data": {
            "text/plain": [
              "18285"
            ]
          },
          "metadata": {},
          "execution_count": 17
        }
      ],
      "source": [
        "len(corpus)"
      ]
    },
    {
      "cell_type": "code",
      "execution_count": null,
      "id": "53cb4d4d",
      "metadata": {
        "execution": {
          "iopub.execute_input": "2022-03-03T18:13:19.793774Z",
          "iopub.status.busy": "2022-03-03T18:13:19.792951Z",
          "iopub.status.idle": "2022-03-03T18:13:19.796313Z",
          "shell.execute_reply": "2022-03-03T18:13:19.796846Z",
          "shell.execute_reply.started": "2022-03-03T18:09:54.489440Z"
        },
        "papermill": {
          "duration": 0.07747,
          "end_time": "2022-03-03T18:13:19.797028",
          "exception": false,
          "start_time": "2022-03-03T18:13:19.719558",
          "status": "completed"
        },
        "tags": [],
        "colab": {
          "base_uri": "https://localhost:8080/",
          "height": 140
        },
        "id": "53cb4d4d",
        "outputId": "6f53273b-5fdf-4c15-bbfd-1ce4053dd764"
      },
      "outputs": [
        {
          "output_type": "execute_result",
          "data": {
            "text/plain": [
              "'House Dem Aide: We Didn’t Even See Comey’s Letter Until Jason Chaffetz Tweeted It By Darrell Lucus on October 30, 2016 Subscribe Jason Chaffetz on the stump in American Fork, Utah ( image courtesy Michael Jolley, available under a Creative Commons-BY license) \\nWith apologies to Keith Olbermann, there is no doubt who the Worst Person in The World is this week–FBI Director James Comey. But according to a House Democratic aide, it looks like we also know who the second-worst person is as well. It turns out that when Comey sent his now-infamous letter announcing that the FBI was looking into emails that may be related to Hillary Clinton’s email server, the ranking Democrats on the relevant committees didn’t hear about it from Comey. They found out via a tweet from one of the Republican committee chairmen. \\nAs we now know, Comey notified the Republican chairmen and Democratic ranking members of the House Intelligence, Judiciary, and Oversight committees that his agency was reviewing emails it had recently discovered in order to see if they contained classified information. Not long after this letter went out, Oversight Committee Chairman Jason Chaffetz set the political world ablaze with this tweet. FBI Dir just informed me, \"The FBI has learned of the existence of emails that appear to be pertinent to the investigation.\" Case reopened \\n— Jason Chaffetz (@jasoninthehouse) October 28, 2016 \\nOf course, we now know that this was not the case . Comey was actually saying that it was reviewing the emails in light of “an unrelated case”–which we now know to be Anthony Weiner’s sexting with a teenager. But apparently such little things as facts didn’t matter to Chaffetz. The Utah Republican had already vowed to initiate a raft of investigations if Hillary wins–at least two years’ worth, and possibly an entire term’s worth of them. Apparently Chaffetz thought the FBI was already doing his work for him–resulting in a tweet that briefly roiled the nation before cooler heads realized it was a dud. \\nBut according to a senior House Democratic aide, misreading that letter may have been the least of Chaffetz’ sins. That aide told Shareblue that his boss and other Democrats didn’t even know about Comey’s letter at the time–and only found out when they checked Twitter. “Democratic Ranking Members on the relevant committees didn’t receive Comey’s letter until after the Republican Chairmen. In fact, the Democratic Ranking Members didn’ receive it until after the Chairman of the Oversight and Government Reform Committee, Jason Chaffetz, tweeted it out and made it public.” \\nSo let’s see if we’ve got this right. The FBI director tells Chaffetz and other GOP committee chairmen about a major development in a potentially politically explosive investigation, and neither Chaffetz nor his other colleagues had the courtesy to let their Democratic counterparts know about it. Instead, according to this aide, he made them find out about it on Twitter. \\nThere has already been talk on Daily Kos that Comey himself provided advance notice of this letter to Chaffetz and other Republicans, giving them time to turn on the spin machine. That may make for good theater, but there is nothing so far that even suggests this is the case. After all, there is nothing so far that suggests that Comey was anything other than grossly incompetent and tone-deaf. \\nWhat it does suggest, however, is that Chaffetz is acting in a way that makes Dan Burton and Darrell Issa look like models of responsibility and bipartisanship. He didn’t even have the decency to notify ranking member Elijah Cummings about something this explosive. If that doesn’t trample on basic standards of fairness, I don’t know what does. \\nGranted, it’s not likely that Chaffetz will have to answer for this. He sits in a ridiculously Republican district anchored in Provo and Orem; it has a Cook Partisan Voting Index of R+25, and gave Mitt Romney a punishing 78 percent of the vote in 2012. Moreover, the Republican House leadership has given its full support to Chaffetz’ planned fishing expedition. But that doesn’t mean we can’t turn the hot lights on him. After all, he is a textbook example of what the House has become under Republican control. And he is also the Second Worst Person in the World. About Darrell Lucus \\nDarrell is a 30-something graduate of the University of North Carolina who considers himself a journalist of the old school. An attempt to turn him into a member of the religious right in college only succeeded in turning him into the religious right\\'s worst nightmare--a charismatic Christian who is an unapologetic liberal. His desire to stand up for those who have been scared into silence only increased when he survived an abusive three-year marriage. You may know him on Daily Kos as Christian Dem in NC . Follow him on Twitter @DarrellLucus or connect with him on Facebook . Click here to buy Darrell a Mello Yello. Connect'"
            ],
            "application/vnd.google.colaboratory.intrinsic+json": {
              "type": "string"
            }
          },
          "metadata": {},
          "execution_count": 18
        }
      ],
      "source": [
        "msg['text'][0]"
      ]
    },
    {
      "cell_type": "code",
      "execution_count": null,
      "id": "d8591cca",
      "metadata": {
        "execution": {
          "iopub.execute_input": "2022-03-03T18:13:19.938664Z",
          "iopub.status.busy": "2022-03-03T18:13:19.938026Z",
          "iopub.status.idle": "2022-03-03T18:13:20.189689Z",
          "shell.execute_reply": "2022-03-03T18:13:20.189120Z",
          "shell.execute_reply.started": "2022-03-03T18:09:54.498026Z"
        },
        "papermill": {
          "duration": 0.326275,
          "end_time": "2022-03-03T18:13:20.189887",
          "exception": false,
          "start_time": "2022-03-03T18:13:19.863612",
          "status": "completed"
        },
        "tags": [],
        "id": "d8591cca"
      },
      "outputs": [],
      "source": [
        "onehot_representation = [one_hot(words, voc_size) for words in corpus]"
      ]
    },
    {
      "cell_type": "code",
      "execution_count": null,
      "id": "1473e4af",
      "metadata": {
        "execution": {
          "iopub.execute_input": "2022-03-03T18:13:20.328381Z",
          "iopub.status.busy": "2022-03-03T18:13:20.327421Z",
          "iopub.status.idle": "2022-03-03T18:13:20.429542Z",
          "shell.execute_reply": "2022-03-03T18:13:20.430084Z",
          "shell.execute_reply.started": "2022-03-03T18:09:54.731373Z"
        },
        "papermill": {
          "duration": 0.173737,
          "end_time": "2022-03-03T18:13:20.430260",
          "exception": false,
          "start_time": "2022-03-03T18:13:20.256523",
          "status": "completed"
        },
        "tags": [],
        "id": "1473e4af"
      },
      "outputs": [],
      "source": [
        "sent_length = 20\n",
        "embeded_docs = pad_sequences(onehot_representation, padding = \"pre\", maxlen = sent_length)"
      ]
    },
    {
      "cell_type": "code",
      "execution_count": null,
      "id": "951f8c66",
      "metadata": {
        "execution": {
          "iopub.execute_input": "2022-03-03T18:13:20.571492Z",
          "iopub.status.busy": "2022-03-03T18:13:20.566643Z",
          "iopub.status.idle": "2022-03-03T18:13:20.575580Z",
          "shell.execute_reply": "2022-03-03T18:13:20.575072Z",
          "shell.execute_reply.started": "2022-03-03T18:09:54.840326Z"
        },
        "papermill": {
          "duration": 0.078753,
          "end_time": "2022-03-03T18:13:20.575741",
          "exception": false,
          "start_time": "2022-03-03T18:13:20.496988",
          "status": "completed"
        },
        "tags": [],
        "colab": {
          "base_uri": "https://localhost:8080/"
        },
        "id": "951f8c66",
        "outputId": "9d67b991-3429-41f1-e362-9d095b5fd6bf"
      },
      "outputs": [
        {
          "output_type": "execute_result",
          "data": {
            "text/plain": [
              "array([ 653, 2509, 3023, 2108, 1765,  815, 4039, 1860, 2859, 3542, 4545,\n",
              "       4941, 3362, 4257, 2509, 1869, 4236,  328, 1448, 3362], dtype=int32)"
            ]
          },
          "metadata": {},
          "execution_count": 21
        }
      ],
      "source": [
        "embeded_docs[0]"
      ]
    },
    {
      "cell_type": "code",
      "execution_count": null,
      "id": "2209283e",
      "metadata": {
        "execution": {
          "iopub.execute_input": "2022-03-03T18:13:20.715165Z",
          "iopub.status.busy": "2022-03-03T18:13:20.714197Z",
          "iopub.status.idle": "2022-03-03T18:13:20.783573Z",
          "shell.execute_reply": "2022-03-03T18:13:20.784238Z",
          "shell.execute_reply.started": "2022-03-03T18:09:54.850277Z"
        },
        "papermill": {
          "duration": 0.141861,
          "end_time": "2022-03-03T18:13:20.784467",
          "exception": false,
          "start_time": "2022-03-03T18:13:20.642606",
          "status": "completed"
        },
        "tags": [],
        "id": "2209283e",
        "colab": {
          "base_uri": "https://localhost:8080/"
        },
        "outputId": "96ddb020-84eb-4aca-b300-212e4a17a686"
      },
      "outputs": [
        {
          "output_type": "stream",
          "name": "stdout",
          "text": [
            "Model: \"sequential\"\n",
            "_________________________________________________________________\n",
            " Layer (type)                Output Shape              Param #   \n",
            "=================================================================\n",
            " embedding (Embedding)       (None, 20, 40)            200000    \n",
            "                                                                 \n",
            " bidirectional (Bidirectiona  (None, 200)              112800    \n",
            " l)                                                              \n",
            "                                                                 \n",
            " dense (Dense)               (None, 1)                 201       \n",
            "                                                                 \n",
            "=================================================================\n",
            "Total params: 313,001\n",
            "Trainable params: 313,001\n",
            "Non-trainable params: 0\n",
            "_________________________________________________________________\n",
            "None\n"
          ]
        }
      ],
      "source": [
        "#Building a model \n",
        "dimension = 40\n",
        "model = Sequential()\n",
        "model.add(Embedding(voc_size, dimension, input_length = sent_length))\n",
        "model.add(Bidirectional(LSTM(100)))\n",
        "model.add(Dense(1, activation = \"sigmoid\"))\n",
        "model.compile(loss = 'binary_crossentropy', optimizer = 'adam', metrics = ['accuracy'])\n",
        "print(model.summary())"
      ]
    },
    {
      "cell_type": "code",
      "execution_count": null,
      "id": "803c9fa9",
      "metadata": {
        "execution": {
          "iopub.execute_input": "2022-03-03T18:13:22.161055Z",
          "iopub.status.busy": "2022-03-03T18:13:22.159213Z",
          "iopub.status.idle": "2022-03-03T18:13:22.165842Z",
          "shell.execute_reply": "2022-03-03T18:13:22.165124Z",
          "shell.execute_reply.started": "2022-03-03T18:09:55.319900Z"
        },
        "papermill": {
          "duration": 0.079296,
          "end_time": "2022-03-03T18:13:22.165989",
          "exception": false,
          "start_time": "2022-03-03T18:13:22.086693",
          "status": "completed"
        },
        "tags": [],
        "id": "803c9fa9"
      },
      "outputs": [],
      "source": [
        "X_final = np.array(embeded_docs)"
      ]
    },
    {
      "cell_type": "code",
      "execution_count": null,
      "id": "f74a5403",
      "metadata": {
        "execution": {
          "iopub.execute_input": "2022-03-03T18:13:22.340384Z",
          "iopub.status.busy": "2022-03-03T18:13:22.339459Z",
          "iopub.status.idle": "2022-03-03T18:13:22.341391Z",
          "shell.execute_reply": "2022-03-03T18:13:22.342142Z",
          "shell.execute_reply.started": "2022-03-03T18:09:55.326131Z"
        },
        "papermill": {
          "duration": 0.096928,
          "end_time": "2022-03-03T18:13:22.342391",
          "exception": false,
          "start_time": "2022-03-03T18:13:22.245463",
          "status": "completed"
        },
        "tags": [],
        "id": "f74a5403"
      },
      "outputs": [],
      "source": [
        "y_final = np.array(y)"
      ]
    },
    {
      "cell_type": "code",
      "execution_count": null,
      "id": "3930e821",
      "metadata": {
        "execution": {
          "iopub.execute_input": "2022-03-03T18:13:22.499973Z",
          "iopub.status.busy": "2022-03-03T18:13:22.498876Z",
          "iopub.status.idle": "2022-03-03T18:13:22.501089Z",
          "shell.execute_reply": "2022-03-03T18:13:22.501605Z",
          "shell.execute_reply.started": "2022-03-03T18:09:55.334565Z"
        },
        "papermill": {
          "duration": 0.080315,
          "end_time": "2022-03-03T18:13:22.501818",
          "exception": false,
          "start_time": "2022-03-03T18:13:22.421503",
          "status": "completed"
        },
        "tags": [],
        "id": "3930e821"
      },
      "outputs": [],
      "source": [
        "from sklearn.model_selection import train_test_split"
      ]
    },
    {
      "cell_type": "code",
      "execution_count": null,
      "id": "a084ffb8",
      "metadata": {
        "execution": {
          "iopub.execute_input": "2022-03-03T18:13:22.650365Z",
          "iopub.status.busy": "2022-03-03T18:13:22.649372Z",
          "iopub.status.idle": "2022-03-03T18:13:22.658795Z",
          "shell.execute_reply": "2022-03-03T18:13:22.659342Z",
          "shell.execute_reply.started": "2022-03-03T18:09:55.342331Z"
        },
        "papermill": {
          "duration": 0.081585,
          "end_time": "2022-03-03T18:13:22.659537",
          "exception": false,
          "start_time": "2022-03-03T18:13:22.577952",
          "status": "completed"
        },
        "tags": [],
        "id": "a084ffb8"
      },
      "outputs": [],
      "source": [
        "X_train, X_test, y_train, y_test = train_test_split(X_final, y_final, test_size=0.20, random_state=42)"
      ]
    },
    {
      "cell_type": "code",
      "execution_count": null,
      "id": "6eb25ee6",
      "metadata": {
        "execution": {
          "iopub.execute_input": "2022-03-03T18:13:22.800960Z",
          "iopub.status.busy": "2022-03-03T18:13:22.800010Z",
          "iopub.status.idle": "2022-03-03T18:15:04.798437Z",
          "shell.execute_reply": "2022-03-03T18:15:04.799066Z",
          "shell.execute_reply.started": "2022-03-03T18:09:55.354487Z"
        },
        "papermill": {
          "duration": 102.070986,
          "end_time": "2022-03-03T18:15:04.799316",
          "exception": false,
          "start_time": "2022-03-03T18:13:22.728330",
          "status": "completed"
        },
        "tags": [],
        "colab": {
          "base_uri": "https://localhost:8080/"
        },
        "id": "6eb25ee6",
        "outputId": "ee548b52-2be2-459e-9add-a247fad29e6b"
      },
      "outputs": [
        {
          "output_type": "stream",
          "name": "stdout",
          "text": [
            "Epoch 1/20\n",
            "229/229 [==============================] - 14s 24ms/step - loss: 0.3998 - accuracy: 0.7995 - val_loss: 0.3234 - val_accuracy: 0.8594\n",
            "Epoch 2/20\n",
            "229/229 [==============================] - 4s 18ms/step - loss: 0.2425 - accuracy: 0.8992 - val_loss: 0.3243 - val_accuracy: 0.8559\n",
            "Epoch 3/20\n",
            "229/229 [==============================] - 4s 19ms/step - loss: 0.1811 - accuracy: 0.9303 - val_loss: 0.3885 - val_accuracy: 0.8532\n",
            "Epoch 4/20\n",
            "229/229 [==============================] - 4s 18ms/step - loss: 0.1333 - accuracy: 0.9498 - val_loss: 0.4501 - val_accuracy: 0.8496\n",
            "Epoch 5/20\n",
            "229/229 [==============================] - 4s 18ms/step - loss: 0.0955 - accuracy: 0.9661 - val_loss: 0.5388 - val_accuracy: 0.8417\n",
            "Epoch 6/20\n",
            "229/229 [==============================] - 4s 18ms/step - loss: 0.0724 - accuracy: 0.9752 - val_loss: 0.5935 - val_accuracy: 0.8370\n",
            "Epoch 7/20\n",
            "229/229 [==============================] - 5s 23ms/step - loss: 0.0492 - accuracy: 0.9828 - val_loss: 0.7313 - val_accuracy: 0.8389\n",
            "Epoch 8/20\n",
            "229/229 [==============================] - 5s 20ms/step - loss: 0.0356 - accuracy: 0.9884 - val_loss: 0.7989 - val_accuracy: 0.8277\n",
            "Epoch 9/20\n",
            "229/229 [==============================] - 4s 18ms/step - loss: 0.0243 - accuracy: 0.9926 - val_loss: 0.9682 - val_accuracy: 0.8280\n",
            "Epoch 10/20\n",
            "229/229 [==============================] - 4s 20ms/step - loss: 0.0217 - accuracy: 0.9938 - val_loss: 0.9531 - val_accuracy: 0.8250\n",
            "Epoch 11/20\n",
            "229/229 [==============================] - 4s 18ms/step - loss: 0.0140 - accuracy: 0.9959 - val_loss: 1.0595 - val_accuracy: 0.8261\n",
            "Epoch 12/20\n",
            "229/229 [==============================] - 4s 18ms/step - loss: 0.0124 - accuracy: 0.9963 - val_loss: 1.2003 - val_accuracy: 0.8269\n",
            "Epoch 13/20\n",
            "229/229 [==============================] - 4s 20ms/step - loss: 0.0133 - accuracy: 0.9959 - val_loss: 1.0897 - val_accuracy: 0.8269\n",
            "Epoch 14/20\n",
            "229/229 [==============================] - 4s 18ms/step - loss: 0.0160 - accuracy: 0.9956 - val_loss: 1.0246 - val_accuracy: 0.8291\n",
            "Epoch 15/20\n",
            "229/229 [==============================] - 4s 18ms/step - loss: 0.0089 - accuracy: 0.9974 - val_loss: 1.4022 - val_accuracy: 0.8305\n",
            "Epoch 16/20\n",
            "229/229 [==============================] - 4s 18ms/step - loss: 0.0115 - accuracy: 0.9965 - val_loss: 1.2150 - val_accuracy: 0.8340\n",
            "Epoch 17/20\n",
            "229/229 [==============================] - 4s 18ms/step - loss: 0.0091 - accuracy: 0.9970 - val_loss: 1.2333 - val_accuracy: 0.8316\n",
            "Epoch 18/20\n",
            "229/229 [==============================] - 4s 19ms/step - loss: 0.0090 - accuracy: 0.9974 - val_loss: 1.2501 - val_accuracy: 0.8302\n",
            "Epoch 19/20\n",
            "229/229 [==============================] - 4s 20ms/step - loss: 0.0047 - accuracy: 0.9986 - val_loss: 1.3405 - val_accuracy: 0.8269\n",
            "Epoch 20/20\n",
            "229/229 [==============================] - 4s 20ms/step - loss: 0.0104 - accuracy: 0.9968 - val_loss: 1.3249 - val_accuracy: 0.8321\n"
          ]
        },
        {
          "output_type": "execute_result",
          "data": {
            "text/plain": [
              "<keras.callbacks.History at 0x7fd0689e6090>"
            ]
          },
          "metadata": {},
          "execution_count": 27
        }
      ],
      "source": [
        "#Training a model\n",
        "model.fit(X_train, y_train, validation_data = (X_test, y_test), epochs = 20, batch_size = 64)"
      ]
    },
    {
      "cell_type": "code",
      "execution_count": null,
      "id": "dd1376dc",
      "metadata": {
        "execution": {
          "iopub.execute_input": "2022-03-03T18:15:05.675087Z",
          "iopub.status.busy": "2022-03-03T18:15:05.673373Z",
          "iopub.status.idle": "2022-03-03T18:15:08.398006Z",
          "shell.execute_reply": "2022-03-03T18:15:08.397168Z",
          "shell.execute_reply.started": "2022-03-03T18:11:03.516433Z"
        },
        "papermill": {
          "duration": 3.162028,
          "end_time": "2022-03-03T18:15:08.398196",
          "exception": false,
          "start_time": "2022-03-03T18:15:05.236168",
          "status": "completed"
        },
        "tags": [],
        "id": "dd1376dc",
        "colab": {
          "base_uri": "https://localhost:8080/"
        },
        "outputId": "3f3befb3-3dd6-41a1-b4dd-8ff45dd04e56"
      },
      "outputs": [
        {
          "output_type": "execute_result",
          "data": {
            "text/plain": [
              "array([[9.9943537e-01],\n",
              "       [1.8594459e-09],\n",
              "       [8.8086075e-12],\n",
              "       ...,\n",
              "       [9.9984550e-01],\n",
              "       [9.9299192e-01],\n",
              "       [1.0000000e+00]], dtype=float32)"
            ]
          },
          "metadata": {},
          "execution_count": 28
        }
      ],
      "source": [
        "y_pred = model.predict(X_test)\n",
        "y_pred"
      ]
    },
    {
      "cell_type": "code",
      "execution_count": null,
      "id": "e4835bd7",
      "metadata": {
        "execution": {
          "iopub.execute_input": "2022-03-03T18:15:09.278640Z",
          "iopub.status.busy": "2022-03-03T18:15:09.277978Z",
          "iopub.status.idle": "2022-03-03T18:15:09.282123Z",
          "shell.execute_reply": "2022-03-03T18:15:09.282652Z",
          "shell.execute_reply.started": "2022-03-03T18:11:05.354886Z"
        },
        "papermill": {
          "duration": 0.44675,
          "end_time": "2022-03-03T18:15:09.282877",
          "exception": false,
          "start_time": "2022-03-03T18:15:08.836127",
          "status": "completed"
        },
        "tags": [],
        "id": "e4835bd7",
        "colab": {
          "base_uri": "https://localhost:8080/"
        },
        "outputId": "238a9c1c-8e9a-42f1-bb74-622f58a3b2f5"
      },
      "outputs": [
        {
          "output_type": "stream",
          "name": "stdout",
          "text": [
            "[1.   0.   0.   ... 1.   0.99 1.  ]\n",
            "[1 0 0 ... 1 1 1]\n",
            "[[1735  347]\n",
            " [ 267 1308]]\n"
          ]
        }
      ],
      "source": [
        "from sklearn.metrics import confusion_matrix\n",
        "p_pred = model.predict(X_test)\n",
        "p_pred = p_pred.flatten()\n",
        "print(p_pred.round(2))\n",
        "y_pred = np.where(p_pred > 0.5, 1, 0)\n",
        "print(y_pred)\n",
        "cf_matrix=confusion_matrix(y_test, y_pred)\n",
        "print(cf_matrix)"
      ]
    },
    {
      "cell_type": "code",
      "source": [
        "import seaborn as sns\n",
        "ax = sns.heatmap(cf_matrix/np.sum(cf_matrix), annot=True,fmt='.2%', cmap='Blues')\n",
        "ax.set_title('Confusion Matrix with labels and percentage\\n\\n');\n",
        "ax.set_xlabel('\\nPredicted Values')\n",
        "ax.set_ylabel('Actual Values ');\n",
        "ax.xaxis.set_ticklabels(['False','True'])\n",
        "ax.yaxis.set_ticklabels(['False','True'])\n",
        "plt.show()"
      ],
      "metadata": {
        "colab": {
          "base_uri": "https://localhost:8080/",
          "height": 337
        },
        "id": "tLDhqN5dG4B7",
        "outputId": "4505288c-a4a7-43de-ce08-96c1bc4e9035"
      },
      "id": "tLDhqN5dG4B7",
      "execution_count": null,
      "outputs": [
        {
          "output_type": "display_data",
          "data": {
            "text/plain": [
              "<Figure size 432x288 with 2 Axes>"
            ],
            "image/png": "[encoded data removed]"
          },
          "metadata": {
            "needs_background": "light"
          }
        }
      ]
    },
    {
      "cell_type": "code",
      "source": [
        "from sklearn.metrics import classification_report\n",
        "print(classification_report(y_test, y_pred))"
      ],
      "metadata": {
        "colab": {
          "base_uri": "https://localhost:8080/"
        },
        "id": "4ZK6bnmvJSdZ",
        "outputId": "0ef101c2-195e-475a-c1ca-d0c9bc3dd509"
      },
      "id": "4ZK6bnmvJSdZ",
      "execution_count": null,
      "outputs": [
        {
          "output_type": "stream",
          "name": "stdout",
          "text": [
            "              precision    recall  f1-score   support\n",
            "\n",
            "           0       0.87      0.83      0.85      2082\n",
            "           1       0.79      0.83      0.81      1575\n",
            "\n",
            "    accuracy                           0.83      3657\n",
            "   macro avg       0.83      0.83      0.83      3657\n",
            "weighted avg       0.83      0.83      0.83      3657\n",
            "\n"
          ]
        }
      ]
    },
    {
      "cell_type": "code",
      "execution_count": null,
      "id": "727ddb7e",
      "metadata": {
        "execution": {
          "iopub.execute_input": "2022-03-03T18:15:10.154365Z",
          "iopub.status.busy": "2022-03-03T18:15:10.153708Z",
          "iopub.status.idle": "2022-03-03T18:15:10.157362Z",
          "shell.execute_reply": "2022-03-03T18:15:10.157931Z",
          "shell.execute_reply.started": "2022-03-03T18:11:05.359817Z"
        },
        "papermill": {
          "duration": 0.44362,
          "end_time": "2022-03-03T18:15:10.158126",
          "exception": false,
          "start_time": "2022-03-03T18:15:09.714506",
          "status": "completed"
        },
        "tags": [],
        "id": "727ddb7e"
      },
      "outputs": [],
      "source": [
        "from sklearn.metrics import accuracy_score"
      ]
    },
    {
      "cell_type": "code",
      "execution_count": null,
      "id": "0834d524",
      "metadata": {
        "execution": {
          "iopub.execute_input": "2022-03-03T18:15:11.021339Z",
          "iopub.status.busy": "2022-03-03T18:15:11.020595Z",
          "iopub.status.idle": "2022-03-03T18:15:11.029154Z",
          "shell.execute_reply": "2022-03-03T18:15:11.028046Z",
          "shell.execute_reply.started": "2022-03-03T18:11:05.370906Z"
        },
        "papermill": {
          "duration": 0.438472,
          "end_time": "2022-03-03T18:15:11.029423",
          "exception": false,
          "start_time": "2022-03-03T18:15:10.590951",
          "status": "completed"
        },
        "tags": [],
        "colab": {
          "base_uri": "https://localhost:8080/"
        },
        "id": "0834d524",
        "outputId": "1bcf6017-9401-473d-d373-7bb3f83fdf5e"
      },
      "outputs": [
        {
          "output_type": "stream",
          "name": "stdout",
          "text": [
            "0.8321028165162702\n"
          ]
        }
      ],
      "source": [
        "print(accuracy_score(y_test, y_pred))"
      ]
    },
    {
      "cell_type": "code",
      "source": [
        "model.save('fake_model.h5')"
      ],
      "metadata": {
        "id": "nrvdK_GjXrol"
      },
      "id": "nrvdK_GjXrol",
      "execution_count": null,
      "outputs": []
    }
  ],
  "metadata": {
    "kernelspec": {
      "display_name": "Python 3",
      "language": "python",
      "name": "python3"
    },
    "language_info": {
      "codemirror_mode": {
        "name": "ipython",
        "version": 3
      },
      "file_extension": ".py",
      "mimetype": "text/x-python",
      "name": "python",
      "nbconvert_exporter": "python",
      "pygments_lexer": "ipython3",
      "version": "3.7.12"
    },
    "papermill": {
      "default_parameters": {},
      "duration": 210.311903,
      "end_time": "2022-03-03T18:15:49.593157",
      "environment_variables": {},
      "exception": null,
      "input_path": "__notebook__.ipynb",
      "output_path": "__notebook__.ipynb",
      "parameters": {},
      "start_time": "2022-03-03T18:12:19.281254",
      "version": "2.3.3"
    },
    "colab": {
      "name": "bidirectional-lstm.ipynb",
      "provenance": [],
      "collapsed_sections": []
    },
    "accelerator": "GPU"
  },
  "nbformat": 4,
  "nbformat_minor": 5
}